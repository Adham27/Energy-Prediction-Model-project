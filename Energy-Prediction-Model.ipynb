{
 "cells": [
  {
   "attachments": {},
   "cell_type": "markdown",
   "id": "former-extent",
   "metadata": {
    "id": "former-extent"
   },
   "source": [
    "\n",
    "# <span style=\"color:#D4AF37;\">Energy Prediction Model</span>\n"
   ]
  },
  {
   "attachments": {},
   "cell_type": "markdown",
   "id": "visible-oakland",
   "metadata": {
    "id": "visible-oakland"
   },
   "source": [
    "## Introduction\n",
    "### Overview\n",
    "\n",
    "Assessing the value of energy efficiency improvements can be challenging as there's no way to truly know how much energy a building would have used without the improvements. The best we can do is to build counterfactual models. Once a building is overhauled the new (lower) energy consumption is compared against modeled values for the original building to calculate the savings from the retrofit. More accurate models could support better market incentives and enable lower cost financing.\n",
    "\n",
    "In this project, we will build these models across four energy types based on historic usage rates and observed weather. The dataset includes three years of hourly meter readings from over one thousand buildings at several different sites around the world."
   ]
  },
  {
   "attachments": {},
   "cell_type": "markdown",
   "id": "bb90f242",
   "metadata": {},
   "source": [
    "# Data we used\n",
    "https://www.kaggle.com/competitions/ashrae-energy-prediction/data"
   ]
  },
  {
   "cell_type": "code",
   "execution_count": 2,
   "id": "collaborative-medication",
   "metadata": {
    "id": "collaborative-medication"
   },
   "outputs": [],
   "source": [
    "import numpy as np\n",
    "import pandas as pd\n",
    "import seaborn as sb\n",
    "import matplotlib.pyplot as plt\n",
    "import os\n",
    "from sklearn import preprocessing\n",
    "from sklearn.preprocessing import LabelEncoder\n",
    "from sklearn.model_selection import train_test_split\n",
    "%matplotlib inline"
   ]
  },
  {
   "cell_type": "markdown",
   "id": "announced-praise",
   "metadata": {
    "id": "announced-praise"
   },
   "source": [
    "## Exploring \"building_metadata.csv\" file"
   ]
  },
  {
   "cell_type": "code",
   "execution_count": 3,
   "id": "senior-visitor",
   "metadata": {
    "id": "senior-visitor",
    "outputId": "15e1a461-e06f-4611-d516-225c21fdda3e",
    "scrolled": false
   },
   "outputs": [
    {
     "data": {
      "text/html": [
       "<div>\n",
       "<style scoped>\n",
       "    .dataframe tbody tr th:only-of-type {\n",
       "        vertical-align: middle;\n",
       "    }\n",
       "\n",
       "    .dataframe tbody tr th {\n",
       "        vertical-align: top;\n",
       "    }\n",
       "\n",
       "    .dataframe thead th {\n",
       "        text-align: right;\n",
       "    }\n",
       "</style>\n",
       "<table border=\"1\" class=\"dataframe\">\n",
       "  <thead>\n",
       "    <tr style=\"text-align: right;\">\n",
       "      <th></th>\n",
       "      <th>site_id</th>\n",
       "      <th>building_id</th>\n",
       "      <th>primary_use</th>\n",
       "      <th>square_feet</th>\n",
       "      <th>year_built</th>\n",
       "      <th>floor_count</th>\n",
       "    </tr>\n",
       "  </thead>\n",
       "  <tbody>\n",
       "    <tr>\n",
       "      <th>0</th>\n",
       "      <td>0</td>\n",
       "      <td>0</td>\n",
       "      <td>Education</td>\n",
       "      <td>7432</td>\n",
       "      <td>2008.0</td>\n",
       "      <td>NaN</td>\n",
       "    </tr>\n",
       "    <tr>\n",
       "      <th>1</th>\n",
       "      <td>0</td>\n",
       "      <td>1</td>\n",
       "      <td>Education</td>\n",
       "      <td>2720</td>\n",
       "      <td>2004.0</td>\n",
       "      <td>NaN</td>\n",
       "    </tr>\n",
       "    <tr>\n",
       "      <th>2</th>\n",
       "      <td>0</td>\n",
       "      <td>2</td>\n",
       "      <td>Education</td>\n",
       "      <td>5376</td>\n",
       "      <td>1991.0</td>\n",
       "      <td>NaN</td>\n",
       "    </tr>\n",
       "    <tr>\n",
       "      <th>3</th>\n",
       "      <td>0</td>\n",
       "      <td>3</td>\n",
       "      <td>Education</td>\n",
       "      <td>23685</td>\n",
       "      <td>2002.0</td>\n",
       "      <td>NaN</td>\n",
       "    </tr>\n",
       "    <tr>\n",
       "      <th>4</th>\n",
       "      <td>0</td>\n",
       "      <td>4</td>\n",
       "      <td>Education</td>\n",
       "      <td>116607</td>\n",
       "      <td>1975.0</td>\n",
       "      <td>NaN</td>\n",
       "    </tr>\n",
       "    <tr>\n",
       "      <th>5</th>\n",
       "      <td>0</td>\n",
       "      <td>5</td>\n",
       "      <td>Education</td>\n",
       "      <td>8000</td>\n",
       "      <td>2000.0</td>\n",
       "      <td>NaN</td>\n",
       "    </tr>\n",
       "    <tr>\n",
       "      <th>6</th>\n",
       "      <td>0</td>\n",
       "      <td>6</td>\n",
       "      <td>Lodging/residential</td>\n",
       "      <td>27926</td>\n",
       "      <td>1981.0</td>\n",
       "      <td>NaN</td>\n",
       "    </tr>\n",
       "    <tr>\n",
       "      <th>7</th>\n",
       "      <td>0</td>\n",
       "      <td>7</td>\n",
       "      <td>Education</td>\n",
       "      <td>121074</td>\n",
       "      <td>1989.0</td>\n",
       "      <td>NaN</td>\n",
       "    </tr>\n",
       "    <tr>\n",
       "      <th>8</th>\n",
       "      <td>0</td>\n",
       "      <td>8</td>\n",
       "      <td>Education</td>\n",
       "      <td>60809</td>\n",
       "      <td>2003.0</td>\n",
       "      <td>NaN</td>\n",
       "    </tr>\n",
       "    <tr>\n",
       "      <th>9</th>\n",
       "      <td>0</td>\n",
       "      <td>9</td>\n",
       "      <td>Office</td>\n",
       "      <td>27000</td>\n",
       "      <td>2010.0</td>\n",
       "      <td>NaN</td>\n",
       "    </tr>\n",
       "  </tbody>\n",
       "</table>\n",
       "</div>"
      ],
      "text/plain": [
       "   site_id  building_id          primary_use  square_feet  year_built  \\\n",
       "0        0            0            Education         7432      2008.0   \n",
       "1        0            1            Education         2720      2004.0   \n",
       "2        0            2            Education         5376      1991.0   \n",
       "3        0            3            Education        23685      2002.0   \n",
       "4        0            4            Education       116607      1975.0   \n",
       "5        0            5            Education         8000      2000.0   \n",
       "6        0            6  Lodging/residential        27926      1981.0   \n",
       "7        0            7            Education       121074      1989.0   \n",
       "8        0            8            Education        60809      2003.0   \n",
       "9        0            9               Office        27000      2010.0   \n",
       "\n",
       "   floor_count  \n",
       "0          NaN  \n",
       "1          NaN  \n",
       "2          NaN  \n",
       "3          NaN  \n",
       "4          NaN  \n",
       "5          NaN  \n",
       "6          NaN  \n",
       "7          NaN  \n",
       "8          NaN  \n",
       "9          NaN  "
      ]
     },
     "execution_count": 3,
     "metadata": {},
     "output_type": "execute_result"
    }
   ],
   "source": [
    "#Load data\n",
    "file_name = 'building_metadata.csv'\n",
    "building_df = pd.read_csv(file_name)\n",
    "building_df.head(10)"
   ]
  },
  {
   "cell_type": "code",
   "execution_count": 4,
   "id": "changed-violin",
   "metadata": {
    "id": "changed-violin",
    "outputId": "fee54516-846c-4b3e-c772-38fd06e4008f"
   },
   "outputs": [
    {
     "data": {
      "text/plain": [
       "(1449, 6)"
      ]
     },
     "execution_count": 4,
     "metadata": {},
     "output_type": "execute_result"
    }
   ],
   "source": [
    "building_df.shape"
   ]
  },
  {
   "cell_type": "code",
   "execution_count": 5,
   "id": "asian-costume",
   "metadata": {
    "id": "asian-costume",
    "outputId": "16d5221d-03d5-4876-ebf2-8a33c94708f5"
   },
   "outputs": [
    {
     "name": "stdout",
     "output_type": "stream",
     "text": [
      "<class 'pandas.core.frame.DataFrame'>\n",
      "RangeIndex: 1449 entries, 0 to 1448\n",
      "Data columns (total 6 columns):\n",
      " #   Column       Non-Null Count  Dtype  \n",
      "---  ------       --------------  -----  \n",
      " 0   site_id      1449 non-null   int64  \n",
      " 1   building_id  1449 non-null   int64  \n",
      " 2   primary_use  1449 non-null   object \n",
      " 3   square_feet  1449 non-null   int64  \n",
      " 4   year_built   675 non-null    float64\n",
      " 5   floor_count  355 non-null    float64\n",
      "dtypes: float64(2), int64(3), object(1)\n",
      "memory usage: 68.0+ KB\n"
     ]
    }
   ],
   "source": [
    "# Check for missing or null values\n",
    "building_df.info()"
   ]
  },
  {
   "cell_type": "code",
   "execution_count": 6,
   "id": "stainless-accordance",
   "metadata": {
    "id": "stainless-accordance",
    "outputId": "fddc9b68-0ae1-4f97-90ea-5edd23dab4af",
    "scrolled": true
   },
   "outputs": [
    {
     "name": "stdout",
     "output_type": "stream",
     "text": [
      "Percentage of missing values in floor_count column is  75.50034506556246 %\n",
      "Percentage of missing values in year_build column is  53.41614906832298 %\n"
     ]
    }
   ],
   "source": [
    "#Finding the precentage of missing value in this two columns \n",
    "floor_count_missing = 100*(building_df.floor_count.isna().sum()/len(building_df))\n",
    "year_build_missing = 100*(building_df.year_built.isna().sum()/len(building_df))\n",
    "\n",
    "print(\"Percentage of missing values in floor_count column is \", floor_count_missing, \"%\")\n",
    "print(\"Percentage of missing values in year_build column is \", year_build_missing, \"%\")"
   ]
  },
  {
   "cell_type": "code",
   "execution_count": 7,
   "id": "preceding-gothic",
   "metadata": {
    "id": "preceding-gothic"
   },
   "outputs": [
    {
     "data": {
      "text/html": [
       "<div>\n",
       "<style scoped>\n",
       "    .dataframe tbody tr th:only-of-type {\n",
       "        vertical-align: middle;\n",
       "    }\n",
       "\n",
       "    .dataframe tbody tr th {\n",
       "        vertical-align: top;\n",
       "    }\n",
       "\n",
       "    .dataframe thead th {\n",
       "        text-align: right;\n",
       "    }\n",
       "</style>\n",
       "<table border=\"1\" class=\"dataframe\">\n",
       "  <thead>\n",
       "    <tr style=\"text-align: right;\">\n",
       "      <th></th>\n",
       "      <th>site_id</th>\n",
       "      <th>building_id</th>\n",
       "      <th>primary_use</th>\n",
       "      <th>square_feet</th>\n",
       "    </tr>\n",
       "  </thead>\n",
       "  <tbody>\n",
       "    <tr>\n",
       "      <th>0</th>\n",
       "      <td>0</td>\n",
       "      <td>0</td>\n",
       "      <td>Education</td>\n",
       "      <td>7432</td>\n",
       "    </tr>\n",
       "    <tr>\n",
       "      <th>1</th>\n",
       "      <td>0</td>\n",
       "      <td>1</td>\n",
       "      <td>Education</td>\n",
       "      <td>2720</td>\n",
       "    </tr>\n",
       "    <tr>\n",
       "      <th>2</th>\n",
       "      <td>0</td>\n",
       "      <td>2</td>\n",
       "      <td>Education</td>\n",
       "      <td>5376</td>\n",
       "    </tr>\n",
       "    <tr>\n",
       "      <th>3</th>\n",
       "      <td>0</td>\n",
       "      <td>3</td>\n",
       "      <td>Education</td>\n",
       "      <td>23685</td>\n",
       "    </tr>\n",
       "    <tr>\n",
       "      <th>4</th>\n",
       "      <td>0</td>\n",
       "      <td>4</td>\n",
       "      <td>Education</td>\n",
       "      <td>116607</td>\n",
       "    </tr>\n",
       "    <tr>\n",
       "      <th>...</th>\n",
       "      <td>...</td>\n",
       "      <td>...</td>\n",
       "      <td>...</td>\n",
       "      <td>...</td>\n",
       "    </tr>\n",
       "    <tr>\n",
       "      <th>1444</th>\n",
       "      <td>15</td>\n",
       "      <td>1444</td>\n",
       "      <td>Entertainment/public assembly</td>\n",
       "      <td>19619</td>\n",
       "    </tr>\n",
       "    <tr>\n",
       "      <th>1445</th>\n",
       "      <td>15</td>\n",
       "      <td>1445</td>\n",
       "      <td>Education</td>\n",
       "      <td>4298</td>\n",
       "    </tr>\n",
       "    <tr>\n",
       "      <th>1446</th>\n",
       "      <td>15</td>\n",
       "      <td>1446</td>\n",
       "      <td>Entertainment/public assembly</td>\n",
       "      <td>11265</td>\n",
       "    </tr>\n",
       "    <tr>\n",
       "      <th>1447</th>\n",
       "      <td>15</td>\n",
       "      <td>1447</td>\n",
       "      <td>Lodging/residential</td>\n",
       "      <td>29775</td>\n",
       "    </tr>\n",
       "    <tr>\n",
       "      <th>1448</th>\n",
       "      <td>15</td>\n",
       "      <td>1448</td>\n",
       "      <td>Office</td>\n",
       "      <td>92271</td>\n",
       "    </tr>\n",
       "  </tbody>\n",
       "</table>\n",
       "<p>1449 rows × 4 columns</p>\n",
       "</div>"
      ],
      "text/plain": [
       "      site_id  building_id                    primary_use  square_feet\n",
       "0           0            0                      Education         7432\n",
       "1           0            1                      Education         2720\n",
       "2           0            2                      Education         5376\n",
       "3           0            3                      Education        23685\n",
       "4           0            4                      Education       116607\n",
       "...       ...          ...                            ...          ...\n",
       "1444       15         1444  Entertainment/public assembly        19619\n",
       "1445       15         1445                      Education         4298\n",
       "1446       15         1446  Entertainment/public assembly        11265\n",
       "1447       15         1447            Lodging/residential        29775\n",
       "1448       15         1448                         Office        92271\n",
       "\n",
       "[1449 rows x 4 columns]"
      ]
     },
     "execution_count": 7,
     "metadata": {},
     "output_type": "execute_result"
    }
   ],
   "source": [
    "#After getting the precentage we found that more than half of their values are missing,\n",
    "#these two features are not going to be particularly useful. So, we will drop them\n",
    "\n",
    "building_df.drop(['floor_count', 'year_built'], axis=1, inplace=True)\n",
    "building_df\n",
    "                 "
   ]
  },
  {
   "cell_type": "code",
   "execution_count": 8,
   "id": "protecting-juvenile",
   "metadata": {
    "id": "protecting-juvenile",
    "outputId": "8244fde3-ce9c-41a9-acc4-65fbc5a747ae"
   },
   "outputs": [
    {
     "data": {
      "text/plain": [
       "0"
      ]
     },
     "execution_count": 8,
     "metadata": {},
     "output_type": "execute_result"
    }
   ],
   "source": [
    "    #Check for duplicate values\n",
    "building_df.duplicated().sum()"
   ]
  },
  {
   "cell_type": "code",
   "execution_count": 9,
   "id": "contrary-reggae",
   "metadata": {
    "id": "contrary-reggae",
    "outputId": "68d636d0-4c2e-4e1d-f91d-c4da438ea8db"
   },
   "outputs": [
    {
     "data": {
      "text/plain": [
       "array([ 0,  1,  2,  3,  4,  5,  6,  7,  8,  9, 10, 11, 12, 13, 14, 15],\n",
       "      dtype=int64)"
      ]
     },
     "execution_count": 9,
     "metadata": {},
     "output_type": "execute_result"
    }
   ],
   "source": [
    "building_df['site_id'].unique()"
   ]
  },
  {
   "cell_type": "code",
   "execution_count": 10,
   "id": "british-expense",
   "metadata": {
    "id": "british-expense",
    "outputId": "117555d6-5d99-4a8d-d727-80da942444e2"
   },
   "outputs": [
    {
     "data": {
      "text/plain": [
       "array([   0,    1,    2, ..., 1446, 1447, 1448], dtype=int64)"
      ]
     },
     "execution_count": 10,
     "metadata": {},
     "output_type": "execute_result"
    }
   ],
   "source": [
    "building_df['building_id'].unique()"
   ]
  },
  {
   "cell_type": "code",
   "execution_count": 11,
   "id": "continuing-special",
   "metadata": {
    "id": "continuing-special",
    "outputId": "731ff721-5f07-474a-c71a-6434b0320b66"
   },
   "outputs": [
    {
     "data": {
      "text/plain": [
       "<AxesSubplot:xlabel='site_id', ylabel='count'>"
      ]
     },
     "execution_count": 11,
     "metadata": {},
     "output_type": "execute_result"
    },
    {
     "data": {
      "image/png": "[encoded data removed]",
      "text/plain": [
       "<Figure size 432x288 with 1 Axes>"
      ]
     },
     "metadata": {
      "needs_background": "light"
     },
     "output_type": "display_data"
    }
   ],
   "source": [
    "#Plot to represent number of buildings in every site\n",
    "sb.countplot(x='site_id', data=building_df)"
   ]
  },
  {
   "cell_type": "code",
   "execution_count": 12,
   "id": "clean-height",
   "metadata": {
    "id": "clean-height",
    "outputId": "cb555c48-54d4-484e-de23-601f695cc556"
   },
   "outputs": [
    {
     "data": {
      "text/plain": [
       "Education                        549\n",
       "Office                           279\n",
       "Entertainment/public assembly    184\n",
       "Public services                  156\n",
       "Lodging/residential              147\n",
       "Other                             25\n",
       "Healthcare                        23\n",
       "Parking                           22\n",
       "Warehouse/storage                 13\n",
       "Manufacturing/industrial          12\n",
       "Retail                            11\n",
       "Services                          10\n",
       "Technology/science                 6\n",
       "Food sales and service             5\n",
       "Utility                            4\n",
       "Religious worship                  3\n",
       "Name: primary_use, dtype: int64"
      ]
     },
     "execution_count": 12,
     "metadata": {},
     "output_type": "execute_result"
    }
   ],
   "source": [
    "#Number of buildings in every primary_use\n",
    "building_df['primary_use'].value_counts()"
   ]
  },
  {
   "cell_type": "code",
   "execution_count": 13,
   "id": "buried-musical",
   "metadata": {
    "id": "buried-musical",
    "outputId": "36d0130e-5012-4b63-abff-b61fe8f63b6e"
   },
   "outputs": [
    {
     "data": {
      "text/html": [
       "<div>\n",
       "<style scoped>\n",
       "    .dataframe tbody tr th:only-of-type {\n",
       "        vertical-align: middle;\n",
       "    }\n",
       "\n",
       "    .dataframe tbody tr th {\n",
       "        vertical-align: top;\n",
       "    }\n",
       "\n",
       "    .dataframe thead th {\n",
       "        text-align: right;\n",
       "    }\n",
       "</style>\n",
       "<table border=\"1\" class=\"dataframe\">\n",
       "  <thead>\n",
       "    <tr style=\"text-align: right;\">\n",
       "      <th></th>\n",
       "      <th>mean</th>\n",
       "    </tr>\n",
       "    <tr>\n",
       "      <th>primary_use</th>\n",
       "      <th></th>\n",
       "    </tr>\n",
       "  </thead>\n",
       "  <tbody>\n",
       "    <tr>\n",
       "      <th>Education</th>\n",
       "      <td>104329.000000</td>\n",
       "    </tr>\n",
       "    <tr>\n",
       "      <th>Entertainment/public assembly</th>\n",
       "      <td>80584.070652</td>\n",
       "    </tr>\n",
       "    <tr>\n",
       "      <th>Food sales and service</th>\n",
       "      <td>38485.000000</td>\n",
       "    </tr>\n",
       "    <tr>\n",
       "      <th>Healthcare</th>\n",
       "      <td>140480.869565</td>\n",
       "    </tr>\n",
       "    <tr>\n",
       "      <th>Lodging/residential</th>\n",
       "      <td>85368.605442</td>\n",
       "    </tr>\n",
       "    <tr>\n",
       "      <th>Manufacturing/industrial</th>\n",
       "      <td>41120.833333</td>\n",
       "    </tr>\n",
       "    <tr>\n",
       "      <th>Office</th>\n",
       "      <td>87065.627240</td>\n",
       "    </tr>\n",
       "    <tr>\n",
       "      <th>Other</th>\n",
       "      <td>31456.560000</td>\n",
       "    </tr>\n",
       "    <tr>\n",
       "      <th>Parking</th>\n",
       "      <td>279341.772727</td>\n",
       "    </tr>\n",
       "    <tr>\n",
       "      <th>Public services</th>\n",
       "      <td>64947.282051</td>\n",
       "    </tr>\n",
       "    <tr>\n",
       "      <th>Religious worship</th>\n",
       "      <td>11276.666667</td>\n",
       "    </tr>\n",
       "    <tr>\n",
       "      <th>Retail</th>\n",
       "      <td>39298.000000</td>\n",
       "    </tr>\n",
       "    <tr>\n",
       "      <th>Services</th>\n",
       "      <td>200659.100000</td>\n",
       "    </tr>\n",
       "    <tr>\n",
       "      <th>Technology/science</th>\n",
       "      <td>59176.333333</td>\n",
       "    </tr>\n",
       "    <tr>\n",
       "      <th>Utility</th>\n",
       "      <td>31095.750000</td>\n",
       "    </tr>\n",
       "    <tr>\n",
       "      <th>Warehouse/storage</th>\n",
       "      <td>45584.230769</td>\n",
       "    </tr>\n",
       "  </tbody>\n",
       "</table>\n",
       "</div>"
      ],
      "text/plain": [
       "                                        mean\n",
       "primary_use                                 \n",
       "Education                      104329.000000\n",
       "Entertainment/public assembly   80584.070652\n",
       "Food sales and service          38485.000000\n",
       "Healthcare                     140480.869565\n",
       "Lodging/residential             85368.605442\n",
       "Manufacturing/industrial        41120.833333\n",
       "Office                          87065.627240\n",
       "Other                           31456.560000\n",
       "Parking                        279341.772727\n",
       "Public services                 64947.282051\n",
       "Religious worship               11276.666667\n",
       "Retail                          39298.000000\n",
       "Services                       200659.100000\n",
       "Technology/science              59176.333333\n",
       "Utility                         31095.750000\n",
       "Warehouse/storage               45584.230769"
      ]
     },
     "execution_count": 13,
     "metadata": {},
     "output_type": "execute_result"
    }
   ],
   "source": [
    "#Mean Of square_feet by primary_use\n",
    "building_df.groupby('primary_use').square_feet.agg(['mean'])"
   ]
  },
  {
   "cell_type": "markdown",
   "id": "endless-trace",
   "metadata": {
    "id": "endless-trace"
   },
   "source": [
    "## Exploring \"train.csv\" file"
   ]
  },
  {
   "cell_type": "code",
   "execution_count": 14,
   "id": "exciting-mount",
   "metadata": {
    "id": "exciting-mount",
    "outputId": "33ea9347-b7e3-49b9-961a-5686bf669e02"
   },
   "outputs": [
    {
     "data": {
      "text/html": [
       "<div>\n",
       "<style scoped>\n",
       "    .dataframe tbody tr th:only-of-type {\n",
       "        vertical-align: middle;\n",
       "    }\n",
       "\n",
       "    .dataframe tbody tr th {\n",
       "        vertical-align: top;\n",
       "    }\n",
       "\n",
       "    .dataframe thead th {\n",
       "        text-align: right;\n",
       "    }\n",
       "</style>\n",
       "<table border=\"1\" class=\"dataframe\">\n",
       "  <thead>\n",
       "    <tr style=\"text-align: right;\">\n",
       "      <th></th>\n",
       "      <th>building_id</th>\n",
       "      <th>meter</th>\n",
       "      <th>timestamp</th>\n",
       "      <th>meter_reading</th>\n",
       "    </tr>\n",
       "  </thead>\n",
       "  <tbody>\n",
       "    <tr>\n",
       "      <th>0</th>\n",
       "      <td>0</td>\n",
       "      <td>0</td>\n",
       "      <td>2016-01-01</td>\n",
       "      <td>0.0</td>\n",
       "    </tr>\n",
       "    <tr>\n",
       "      <th>1</th>\n",
       "      <td>1</td>\n",
       "      <td>0</td>\n",
       "      <td>2016-01-01</td>\n",
       "      <td>0.0</td>\n",
       "    </tr>\n",
       "    <tr>\n",
       "      <th>2</th>\n",
       "      <td>2</td>\n",
       "      <td>0</td>\n",
       "      <td>2016-01-01</td>\n",
       "      <td>0.0</td>\n",
       "    </tr>\n",
       "    <tr>\n",
       "      <th>3</th>\n",
       "      <td>3</td>\n",
       "      <td>0</td>\n",
       "      <td>2016-01-01</td>\n",
       "      <td>0.0</td>\n",
       "    </tr>\n",
       "    <tr>\n",
       "      <th>4</th>\n",
       "      <td>4</td>\n",
       "      <td>0</td>\n",
       "      <td>2016-01-01</td>\n",
       "      <td>0.0</td>\n",
       "    </tr>\n",
       "  </tbody>\n",
       "</table>\n",
       "</div>"
      ],
      "text/plain": [
       "   building_id  meter  timestamp  meter_reading\n",
       "0            0      0 2016-01-01            0.0\n",
       "1            1      0 2016-01-01            0.0\n",
       "2            2      0 2016-01-01            0.0\n",
       "3            3      0 2016-01-01            0.0\n",
       "4            4      0 2016-01-01            0.0"
      ]
     },
     "execution_count": 14,
     "metadata": {},
     "output_type": "execute_result"
    }
   ],
   "source": [
    "file_name = 'train.csv'\n",
    "train_dataframe = pd.read_csv(file_name)\n",
    "#the train dataset contains a 'timestamp' column we convert to a datetime object for ease of use\n",
    "train_dataframe['timestamp'] = pd.to_datetime(train_dataframe['timestamp']) \n",
    "train_dataframe.head(5)"
   ]
  },
  {
   "cell_type": "code",
   "execution_count": 15,
   "id": "promising-header",
   "metadata": {
    "id": "promising-header",
    "outputId": "1cf814b8-757e-48e5-9173-0f0274659767"
   },
   "outputs": [
    {
     "name": "stdout",
     "output_type": "stream",
     "text": [
      "<class 'pandas.core.frame.DataFrame'>\n",
      "RangeIndex: 20216100 entries, 0 to 20216099\n",
      "Data columns (total 4 columns):\n",
      " #   Column         Dtype         \n",
      "---  ------         -----         \n",
      " 0   building_id    int64         \n",
      " 1   meter          int64         \n",
      " 2   timestamp      datetime64[ns]\n",
      " 3   meter_reading  float64       \n",
      "dtypes: datetime64[ns](1), float64(1), int64(2)\n",
      "memory usage: 616.9 MB\n"
     ]
    }
   ],
   "source": [
    "#summary of a train data\n",
    "train_dataframe.info()"
   ]
  },
  {
   "cell_type": "code",
   "execution_count": 16,
   "id": "dynamic-anaheim",
   "metadata": {
    "id": "dynamic-anaheim",
    "outputId": "64b7a8d7-b08e-4d3f-eb2c-f8ed28197c67"
   },
   "outputs": [
    {
     "data": {
      "text/plain": [
       "building_id      0\n",
       "meter            0\n",
       "timestamp        0\n",
       "meter_reading    0\n",
       "dtype: int64"
      ]
     },
     "execution_count": 16,
     "metadata": {},
     "output_type": "execute_result"
    }
   ],
   "source": [
    "#the sum of the null values \n",
    "train_dataframe.isna().sum()"
   ]
  },
  {
   "cell_type": "code",
   "execution_count": 17,
   "id": "blind-webcam",
   "metadata": {
    "id": "blind-webcam",
    "outputId": "851364b8-b8d1-4cf3-e17d-7024069b5835"
   },
   "outputs": [
    {
     "name": "stdout",
     "output_type": "stream",
     "text": [
      "(20216100, 4)\n"
     ]
    }
   ],
   "source": [
    "# dimensionality of the train data.\n",
    "print(train_dataframe.shape)"
   ]
  },
  {
   "cell_type": "code",
   "execution_count": 18,
   "id": "confirmed-lesbian",
   "metadata": {
    "id": "confirmed-lesbian",
    "outputId": "e8455f67-334b-4769-f00b-e277028beda0"
   },
   "outputs": [
    {
     "data": {
      "text/html": [
       "<div>\n",
       "<style scoped>\n",
       "    .dataframe tbody tr th:only-of-type {\n",
       "        vertical-align: middle;\n",
       "    }\n",
       "\n",
       "    .dataframe tbody tr th {\n",
       "        vertical-align: top;\n",
       "    }\n",
       "\n",
       "    .dataframe thead th {\n",
       "        text-align: right;\n",
       "    }\n",
       "</style>\n",
       "<table border=\"1\" class=\"dataframe\">\n",
       "  <thead>\n",
       "    <tr style=\"text-align: right;\">\n",
       "      <th></th>\n",
       "      <th>building_id</th>\n",
       "      <th>meter</th>\n",
       "      <th>meter_reading</th>\n",
       "    </tr>\n",
       "  </thead>\n",
       "  <tbody>\n",
       "    <tr>\n",
       "      <th>count</th>\n",
       "      <td>2.021610e+07</td>\n",
       "      <td>2.021610e+07</td>\n",
       "      <td>2.021610e+07</td>\n",
       "    </tr>\n",
       "    <tr>\n",
       "      <th>mean</th>\n",
       "      <td>7.992780e+02</td>\n",
       "      <td>6.624412e-01</td>\n",
       "      <td>2.117121e+03</td>\n",
       "    </tr>\n",
       "    <tr>\n",
       "      <th>std</th>\n",
       "      <td>4.269133e+02</td>\n",
       "      <td>9.309921e-01</td>\n",
       "      <td>1.532356e+05</td>\n",
       "    </tr>\n",
       "    <tr>\n",
       "      <th>min</th>\n",
       "      <td>0.000000e+00</td>\n",
       "      <td>0.000000e+00</td>\n",
       "      <td>0.000000e+00</td>\n",
       "    </tr>\n",
       "    <tr>\n",
       "      <th>25%</th>\n",
       "      <td>3.930000e+02</td>\n",
       "      <td>0.000000e+00</td>\n",
       "      <td>1.830000e+01</td>\n",
       "    </tr>\n",
       "    <tr>\n",
       "      <th>50%</th>\n",
       "      <td>8.950000e+02</td>\n",
       "      <td>0.000000e+00</td>\n",
       "      <td>7.877500e+01</td>\n",
       "    </tr>\n",
       "    <tr>\n",
       "      <th>75%</th>\n",
       "      <td>1.179000e+03</td>\n",
       "      <td>1.000000e+00</td>\n",
       "      <td>2.679840e+02</td>\n",
       "    </tr>\n",
       "    <tr>\n",
       "      <th>max</th>\n",
       "      <td>1.448000e+03</td>\n",
       "      <td>3.000000e+00</td>\n",
       "      <td>2.190470e+07</td>\n",
       "    </tr>\n",
       "  </tbody>\n",
       "</table>\n",
       "</div>"
      ],
      "text/plain": [
       "        building_id         meter  meter_reading\n",
       "count  2.021610e+07  2.021610e+07   2.021610e+07\n",
       "mean   7.992780e+02  6.624412e-01   2.117121e+03\n",
       "std    4.269133e+02  9.309921e-01   1.532356e+05\n",
       "min    0.000000e+00  0.000000e+00   0.000000e+00\n",
       "25%    3.930000e+02  0.000000e+00   1.830000e+01\n",
       "50%    8.950000e+02  0.000000e+00   7.877500e+01\n",
       "75%    1.179000e+03  1.000000e+00   2.679840e+02\n",
       "max    1.448000e+03  3.000000e+00   2.190470e+07"
      ]
     },
     "execution_count": 18,
     "metadata": {},
     "output_type": "execute_result"
    }
   ],
   "source": [
    "# statistical details about train data\n",
    "train_dataframe.describe()"
   ]
  },
  {
   "cell_type": "code",
   "execution_count": 19,
   "id": "headed-conservation",
   "metadata": {
    "id": "headed-conservation",
    "outputId": "94ba463a-be85-4a00-d78a-ede052d3da9b"
   },
   "outputs": [
    {
     "name": "stdout",
     "output_type": "stream",
     "text": [
      "2016-01-01 00:00:00\n",
      "2016-12-31 23:00:00\n"
     ]
    }
   ],
   "source": [
    "print(train_dataframe[\"timestamp\"].min() , train_dataframe[\"timestamp\"].max(),sep =\"\\n\")"
   ]
  },
  {
   "cell_type": "code",
   "execution_count": 20,
   "id": "gothic-republican",
   "metadata": {
    "id": "gothic-republican",
    "outputId": "270d0df1-50f5-4a51-c5d3-70cbfefb47ec"
   },
   "outputs": [
    {
     "data": {
      "text/plain": [
       "count    2.021610e+07\n",
       "mean     2.117121e+03\n",
       "std      1.532356e+05\n",
       "min      0.000000e+00\n",
       "25%      1.830000e+01\n",
       "50%      7.877500e+01\n",
       "75%      2.679840e+02\n",
       "max      2.190470e+07\n",
       "Name: meter_reading, dtype: float64"
      ]
     },
     "execution_count": 20,
     "metadata": {},
     "output_type": "execute_result"
    }
   ],
   "source": [
    "# statistical details about meter_reading\n",
    "train_dataframe['meter_reading'].describe()"
   ]
  },
  {
   "cell_type": "code",
   "execution_count": 21,
   "id": "demanding-thread",
   "metadata": {
    "id": "demanding-thread",
    "outputId": "73394ad2-bf54-4ed0-977d-bfa5084d9a50"
   },
   "outputs": [
    {
     "name": "stdout",
     "output_type": "stream",
     "text": [
      "Zero reading percentile : 0.093\n"
     ]
    }
   ],
   "source": [
    "zeros = train_dataframe[train_dataframe['meter_reading']== 0].shape[0] / train_dataframe.shape[0]\n",
    "print('Zero reading percentile : {}'.format(round(zeros,3)))"
   ]
  },
  {
   "cell_type": "markdown",
   "id": "separated-sigma",
   "metadata": {
    "id": "separated-sigma"
   },
   "source": [
    "The reading value is zero in 9% of the time. Those data might be absent because no energy usage makes no sense!"
   ]
  },
  {
   "cell_type": "code",
   "execution_count": 22,
   "id": "laden-croatia",
   "metadata": {
    "id": "laden-croatia"
   },
   "outputs": [],
   "source": [
    "#converting the meters to what they stand for \n",
    "train_dataframe['meter'].replace({0:\"electricity\",1:\"chilledwater\",2:\"steam\",3:\"hotwater\"},inplace=True)"
   ]
  },
  {
   "cell_type": "code",
   "execution_count": 23,
   "id": "anticipated-funds",
   "metadata": {
    "id": "anticipated-funds",
    "outputId": "b1927cf0-798d-4296-e77f-bc965810f1f0"
   },
   "outputs": [
    {
     "data": {
      "text/plain": [
       "Text(0.5, 1.0, 'Meters percentage having zero readings')"
      ]
     },
     "execution_count": 23,
     "metadata": {},
     "output_type": "execute_result"
    },
    {
     "data": {
      "image/png": "[encoded data removed]",
      "text/plain": [
       "<Figure size 432x288 with 1 Axes>"
      ]
     },
     "metadata": {
      "needs_background": "light"
     },
     "output_type": "display_data"
    }
   ],
   "source": [
    "# to show the precentage of meters that having zeroes \n",
    "meter_dict = {}\n",
    "for i in train_dataframe[\"meter\"].unique():\n",
    "    percent = round(train_dataframe[train_dataframe['meter_reading']== 0][\"meter\"].value_counts()[i] /train_dataframe[\"meter\"].value_counts()[i],2)\n",
    "    meter_dict[i] = percent\n",
    "zero_meter = pd.Series(meter_dict)\n",
    "sb.barplot(x=zero_meter.index, y= zero_meter,palette =\"Set2\")\n",
    "plt.title(\"Meters percentage having zero readings\")"
   ]
  },
  {
   "cell_type": "code",
   "execution_count": 24,
   "id": "running-pepper",
   "metadata": {
    "id": "running-pepper"
   },
   "outputs": [],
   "source": [
    "train_dataframe[\"month\"] = train_dataframe.timestamp.dt.month"
   ]
  },
  {
   "cell_type": "code",
   "execution_count": 25,
   "id": "parallel-sequence",
   "metadata": {
    "id": "parallel-sequence",
    "outputId": "9ac494d3-26c2-4815-dc86-72f93cff919e"
   },
   "outputs": [
    {
     "data": {
      "text/plain": [
       "Text(0.5, 1.0, 'For hot water')"
      ]
     },
     "execution_count": 25,
     "metadata": {},
     "output_type": "execute_result"
    },
    {
     "data": {
      "image/png": "[encoded data removed]",
      "text/plain": [
       "<Figure size 720x432 with 4 Axes>"
      ]
     },
     "metadata": {
      "needs_background": "light"
     },
     "output_type": "display_data"
    }
   ],
   "source": [
    "fig, axs = plt.subplots(2,2, sharey=True, tight_layout=True,figsize=(10,6))\n",
    "\n",
    "axs[0][0].hist(x =\"month\",data =train_dataframe[(train_dataframe.meter_reading == 0) & (train_dataframe.meter==\"electricity\")],bins =12,color = \"gold\")\n",
    "axs[0][0].set_title(\"For electricity\")\n",
    "\n",
    "axs[0][1].hist(x =\"month\",data =train_dataframe[(train_dataframe.meter_reading == 0) & (train_dataframe.meter==\"chilledwater\")],bins =12,color = \"skyblue\")\n",
    "axs[0][1].set_title(\"For chilled water\")\n",
    "\n",
    "axs[1][0].hist(x =\"month\",data =train_dataframe[(train_dataframe.meter_reading == 0) & (train_dataframe.meter==\"steam\")],bins =12,color = \"gray\")\n",
    "axs[1][0].set_title(\"For steam\")\n",
    "\n",
    "axs[1][1].hist(x =\"month\",data =train_dataframe[(train_dataframe.meter_reading == 0) & (train_dataframe.meter==\"hotwater\")],bins =12,color = \"red\")\n",
    "axs[1][1].set_title(\"For hot water\")"
   ]
  },
  {
   "cell_type": "markdown",
   "id": "ideal-delight",
   "metadata": {
    "id": "ideal-delight"
   },
   "source": [
    "As seen in the graphs, zero readings vary with time and meter type. The first five months of the year have witnessed electricity meter zeros. The number of zero readings decreases as the month progresses. Seasonal variations in chilled and hot water zeros can be found. The distribution of zeros in steam and hot water is remarkably similar."
   ]
  },
  {
   "cell_type": "code",
   "execution_count": 26,
   "id": "empirical-oasis",
   "metadata": {
    "id": "empirical-oasis"
   },
   "outputs": [],
   "source": [
    "# Function for remove Outlier\n",
    "def removeOutliers(data, outlierConstant = 1.5):\n",
    "    values = np.array(data)\n",
    "    upper_quartile = np.percentile(values, 75)\n",
    "    lower_quartile = np.percentile(values, 25)\n",
    "    IQR = (upper_quartile - lower_quartile) * outlierConstant\n",
    "    quartile = (lower_quartile - IQR, upper_quartile + IQR)\n",
    "    results = []\n",
    "    for i in values.tolist():\n",
    "        if i >= quartile[0] and i <= quartile[1]:\n",
    "            results.append(i)\n",
    "    return results"
   ]
  },
  {
   "cell_type": "code",
   "execution_count": 27,
   "id": "serious-thomson",
   "metadata": {
    "id": "serious-thomson"
   },
   "outputs": [],
   "source": [
    "target_noOutlier = removeOutliers(train_dataframe.meter_reading)"
   ]
  },
  {
   "cell_type": "code",
   "execution_count": null,
   "id": "postal-musician",
   "metadata": {
    "id": "postal-musician",
    "outputId": "cef1ba4c-ddd4-4c6a-acce-ef0cb46f1f76"
   },
   "outputs": [],
   "source": [
    "fig, axes = plt.subplots(1, 3, figsize=(12, 5))\n",
    "\n",
    "# Original target distribution\n",
    "sb.kdeplot(train_dataframe.meter_reading, ax=axes[0])\n",
    "axes[0].set_title(\"Target distribution\")\n",
    "\n",
    "# Target distribution without outliers\n",
    "sb.kdeplot(target_noOutlier, ax=axes[1])\n",
    "axes[1].set_title(\"Target distribution without outlier\")\n",
    "\n",
    "# Target with log transform\n",
    "sb.kdeplot(np.log1p(train_dataframe.meter_reading), ax=axes[2])\n",
    "axes[2].set_title(\"Target with Log Transform\")"
   ]
  },
  {
   "cell_type": "code",
   "execution_count": 28,
   "id": "expressed-wheat",
   "metadata": {
    "id": "expressed-wheat"
   },
   "outputs": [],
   "source": [
    "train_dataframe['meter_reading_log'] = np.log1p(train_dataframe['meter_reading'])"
   ]
  },
  {
   "cell_type": "markdown",
   "id": "possible-alert",
   "metadata": {
    "id": "possible-alert"
   },
   "source": [
    "The meter reading variable is highly right-skewed, with a large number of zeros. A skewed distribution is transformed into a more normalized dataset via logarithmic transformation. We have outliers in addition to zeros readings!"
   ]
  },
  {
   "cell_type": "code",
   "execution_count": 29,
   "id": "standard-cooler",
   "metadata": {
    "id": "standard-cooler",
    "outputId": "310cc0c1-bc31-4635-c3cc-3625a668102a"
   },
   "outputs": [
    {
     "data": {
      "text/plain": [
       "<AxesSubplot:xlabel='meter', ylabel='count'>"
      ]
     },
     "execution_count": 29,
     "metadata": {},
     "output_type": "execute_result"
    },
    {
     "data": {
      "image/png": "[encoded data removed]",
      "text/plain": [
       "<Figure size 432x288 with 1 Axes>"
      ]
     },
     "metadata": {
      "needs_background": "light"
     },
     "output_type": "display_data"
    }
   ],
   "source": [
    "sb.countplot(x= \"meter\",data = train_dataframe,color = 'r')"
   ]
  },
  {
   "cell_type": "code",
   "execution_count": null,
   "id": "oriental-buffalo",
   "metadata": {
    "id": "oriental-buffalo",
    "outputId": "a3b13243-e0c4-4e3f-a312-7cad4f46a932"
   },
   "outputs": [],
   "source": [
    "#Graphs shows distribution meter_reading in each meter category\n",
    "\n",
    "sb.kdeplot(train_dataframe.loc[(train_dataframe['meter']=='electricity'), \n",
    "            \"meter_reading_log\"], color='yellow', shade=False, label='electricity')\n",
    "\n",
    "sb.kdeplot(train_dataframe.loc[(train_dataframe['meter']=='chilledwater'), \n",
    "            \"meter_reading_log\"], color='b', shade=False, label='chilledwater')\n",
    "\n",
    "sb.kdeplot(train_dataframe.loc[(train_dataframe['meter']=='steam'), \n",
    "            \"meter_reading_log\"], color='gray', shade=False, label='steam')\n",
    "\n",
    "sb.kdeplot(train_dataframe.loc[(train_dataframe['meter']=='hotwater'), \n",
    "            \"meter_reading_log\"], color='r', shade=False, label='hotwater')\n",
    "\n",
    "plt.xlabel('meter_reading_log') \n",
    "plt.ylabel('Probability Density')\n",
    "plt.legend()"
   ]
  },
  {
   "cell_type": "code",
   "execution_count": 30,
   "id": "plain-progress",
   "metadata": {
    "id": "plain-progress",
    "outputId": "1f9740cb-37d5-4d2d-d3e6-16d516f1e0f0"
   },
   "outputs": [
    {
     "data": {
      "text/html": [
       "<div>\n",
       "<style scoped>\n",
       "    .dataframe tbody tr th:only-of-type {\n",
       "        vertical-align: middle;\n",
       "    }\n",
       "\n",
       "    .dataframe tbody tr th {\n",
       "        vertical-align: top;\n",
       "    }\n",
       "\n",
       "    .dataframe thead th {\n",
       "        text-align: right;\n",
       "    }\n",
       "</style>\n",
       "<table border=\"1\" class=\"dataframe\">\n",
       "  <thead>\n",
       "    <tr style=\"text-align: right;\">\n",
       "      <th></th>\n",
       "      <th>building_id</th>\n",
       "      <th>meter</th>\n",
       "      <th>timestamp</th>\n",
       "      <th>meter_reading</th>\n",
       "      <th>month</th>\n",
       "      <th>meter_reading_log</th>\n",
       "    </tr>\n",
       "  </thead>\n",
       "  <tbody>\n",
       "    <tr>\n",
       "      <th>2196076</th>\n",
       "      <td>916</td>\n",
       "      <td>steam</td>\n",
       "      <td>2016-02-09 19:00:00</td>\n",
       "      <td>106.7500</td>\n",
       "      <td>2</td>\n",
       "      <td>4.679814</td>\n",
       "    </tr>\n",
       "    <tr>\n",
       "      <th>5264821</th>\n",
       "      <td>421</td>\n",
       "      <td>electricity</td>\n",
       "      <td>2016-04-09 15:00:00</td>\n",
       "      <td>58.1400</td>\n",
       "      <td>4</td>\n",
       "      <td>4.079908</td>\n",
       "    </tr>\n",
       "    <tr>\n",
       "      <th>8738456</th>\n",
       "      <td>1051</td>\n",
       "      <td>electricity</td>\n",
       "      <td>2016-06-10 09:00:00</td>\n",
       "      <td>75.0825</td>\n",
       "      <td>6</td>\n",
       "      <td>4.331818</td>\n",
       "    </tr>\n",
       "    <tr>\n",
       "      <th>813346</th>\n",
       "      <td>1054</td>\n",
       "      <td>electricity</td>\n",
       "      <td>2016-01-15 18:00:00</td>\n",
       "      <td>479.0050</td>\n",
       "      <td>1</td>\n",
       "      <td>6.173797</td>\n",
       "    </tr>\n",
       "    <tr>\n",
       "      <th>9186301</th>\n",
       "      <td>952</td>\n",
       "      <td>electricity</td>\n",
       "      <td>2016-06-18 08:00:00</td>\n",
       "      <td>184.0000</td>\n",
       "      <td>6</td>\n",
       "      <td>5.220356</td>\n",
       "    </tr>\n",
       "    <tr>\n",
       "      <th>...</th>\n",
       "      <td>...</td>\n",
       "      <td>...</td>\n",
       "      <td>...</td>\n",
       "      <td>...</td>\n",
       "      <td>...</td>\n",
       "      <td>...</td>\n",
       "    </tr>\n",
       "    <tr>\n",
       "      <th>2347049</th>\n",
       "      <td>1214</td>\n",
       "      <td>electricity</td>\n",
       "      <td>2016-02-12 18:00:00</td>\n",
       "      <td>397.5730</td>\n",
       "      <td>2</td>\n",
       "      <td>5.987891</td>\n",
       "    </tr>\n",
       "    <tr>\n",
       "      <th>2247603</th>\n",
       "      <td>1126</td>\n",
       "      <td>electricity</td>\n",
       "      <td>2016-02-10 18:00:00</td>\n",
       "      <td>242.6290</td>\n",
       "      <td>2</td>\n",
       "      <td>5.495647</td>\n",
       "    </tr>\n",
       "    <tr>\n",
       "      <th>5987223</th>\n",
       "      <td>1115</td>\n",
       "      <td>electricity</td>\n",
       "      <td>2016-04-22 11:00:00</td>\n",
       "      <td>49.0240</td>\n",
       "      <td>4</td>\n",
       "      <td>3.912503</td>\n",
       "    </tr>\n",
       "    <tr>\n",
       "      <th>4729720</th>\n",
       "      <td>1340</td>\n",
       "      <td>electricity</td>\n",
       "      <td>2016-03-31 02:00:00</td>\n",
       "      <td>6.1500</td>\n",
       "      <td>3</td>\n",
       "      <td>1.967112</td>\n",
       "    </tr>\n",
       "    <tr>\n",
       "      <th>7685092</th>\n",
       "      <td>346</td>\n",
       "      <td>electricity</td>\n",
       "      <td>2016-05-22 16:00:00</td>\n",
       "      <td>35.2500</td>\n",
       "      <td>5</td>\n",
       "      <td>3.590439</td>\n",
       "    </tr>\n",
       "  </tbody>\n",
       "</table>\n",
       "<p>15162075 rows × 6 columns</p>\n",
       "</div>"
      ],
      "text/plain": [
       "         building_id        meter           timestamp  meter_reading  month  \\\n",
       "2196076          916        steam 2016-02-09 19:00:00       106.7500      2   \n",
       "5264821          421  electricity 2016-04-09 15:00:00        58.1400      4   \n",
       "8738456         1051  electricity 2016-06-10 09:00:00        75.0825      6   \n",
       "813346          1054  electricity 2016-01-15 18:00:00       479.0050      1   \n",
       "9186301          952  electricity 2016-06-18 08:00:00       184.0000      6   \n",
       "...              ...          ...                 ...            ...    ...   \n",
       "2347049         1214  electricity 2016-02-12 18:00:00       397.5730      2   \n",
       "2247603         1126  electricity 2016-02-10 18:00:00       242.6290      2   \n",
       "5987223         1115  electricity 2016-04-22 11:00:00        49.0240      4   \n",
       "4729720         1340  electricity 2016-03-31 02:00:00         6.1500      3   \n",
       "7685092          346  electricity 2016-05-22 16:00:00        35.2500      5   \n",
       "\n",
       "         meter_reading_log  \n",
       "2196076           4.679814  \n",
       "5264821           4.079908  \n",
       "8738456           4.331818  \n",
       "813346            6.173797  \n",
       "9186301           5.220356  \n",
       "...                    ...  \n",
       "2347049           5.987891  \n",
       "2247603           5.495647  \n",
       "5987223           3.912503  \n",
       "4729720           1.967112  \n",
       "7685092           3.590439  \n",
       "\n",
       "[15162075 rows x 6 columns]"
      ]
     },
     "execution_count": 30,
     "metadata": {},
     "output_type": "execute_result"
    }
   ],
   "source": [
    "#sample data\n",
    "sample_df = train_dataframe.sample(frac =.75)\n",
    "sample_df"
   ]
  },
  {
   "cell_type": "code",
   "execution_count": 31,
   "id": "horizontal-christianity",
   "metadata": {
    "id": "horizontal-christianity",
    "outputId": "3f7c176a-a3d0-480f-ca55-945e52784cfe"
   },
   "outputs": [
    {
     "data": {
      "text/html": [
       "<div>\n",
       "<style scoped>\n",
       "    .dataframe tbody tr th:only-of-type {\n",
       "        vertical-align: middle;\n",
       "    }\n",
       "\n",
       "    .dataframe tbody tr th {\n",
       "        vertical-align: top;\n",
       "    }\n",
       "\n",
       "    .dataframe thead th {\n",
       "        text-align: right;\n",
       "    }\n",
       "</style>\n",
       "<table border=\"1\" class=\"dataframe\">\n",
       "  <thead>\n",
       "    <tr style=\"text-align: right;\">\n",
       "      <th></th>\n",
       "      <th></th>\n",
       "      <th></th>\n",
       "      <th>timestamp</th>\n",
       "      <th>meter_reading</th>\n",
       "      <th>meter_reading_log</th>\n",
       "    </tr>\n",
       "    <tr>\n",
       "      <th>building_id</th>\n",
       "      <th>meter</th>\n",
       "      <th>month</th>\n",
       "      <th></th>\n",
       "      <th></th>\n",
       "      <th></th>\n",
       "    </tr>\n",
       "  </thead>\n",
       "  <tbody>\n",
       "    <tr>\n",
       "      <th rowspan=\"5\" valign=\"top\">0</th>\n",
       "      <th rowspan=\"5\" valign=\"top\">electricity</th>\n",
       "      <th>1</th>\n",
       "      <td>562</td>\n",
       "      <td>562</td>\n",
       "      <td>562</td>\n",
       "    </tr>\n",
       "    <tr>\n",
       "      <th>2</th>\n",
       "      <td>536</td>\n",
       "      <td>536</td>\n",
       "      <td>536</td>\n",
       "    </tr>\n",
       "    <tr>\n",
       "      <th>3</th>\n",
       "      <td>573</td>\n",
       "      <td>573</td>\n",
       "      <td>573</td>\n",
       "    </tr>\n",
       "    <tr>\n",
       "      <th>4</th>\n",
       "      <td>527</td>\n",
       "      <td>527</td>\n",
       "      <td>527</td>\n",
       "    </tr>\n",
       "    <tr>\n",
       "      <th>5</th>\n",
       "      <td>547</td>\n",
       "      <td>547</td>\n",
       "      <td>547</td>\n",
       "    </tr>\n",
       "    <tr>\n",
       "      <th>...</th>\n",
       "      <th>...</th>\n",
       "      <th>...</th>\n",
       "      <td>...</td>\n",
       "      <td>...</td>\n",
       "      <td>...</td>\n",
       "    </tr>\n",
       "    <tr>\n",
       "      <th rowspan=\"5\" valign=\"top\">1448</th>\n",
       "      <th rowspan=\"5\" valign=\"top\">electricity</th>\n",
       "      <th>8</th>\n",
       "      <td>577</td>\n",
       "      <td>577</td>\n",
       "      <td>577</td>\n",
       "    </tr>\n",
       "    <tr>\n",
       "      <th>9</th>\n",
       "      <td>550</td>\n",
       "      <td>550</td>\n",
       "      <td>550</td>\n",
       "    </tr>\n",
       "    <tr>\n",
       "      <th>10</th>\n",
       "      <td>518</td>\n",
       "      <td>518</td>\n",
       "      <td>518</td>\n",
       "    </tr>\n",
       "    <tr>\n",
       "      <th>11</th>\n",
       "      <td>559</td>\n",
       "      <td>559</td>\n",
       "      <td>559</td>\n",
       "    </tr>\n",
       "    <tr>\n",
       "      <th>12</th>\n",
       "      <td>473</td>\n",
       "      <td>473</td>\n",
       "      <td>473</td>\n",
       "    </tr>\n",
       "  </tbody>\n",
       "</table>\n",
       "<p>28332 rows × 3 columns</p>\n",
       "</div>"
      ],
      "text/plain": [
       "                               timestamp  meter_reading  meter_reading_log\n",
       "building_id meter       month                                             \n",
       "0           electricity 1            562            562                562\n",
       "                        2            536            536                536\n",
       "                        3            573            573                573\n",
       "                        4            527            527                527\n",
       "                        5            547            547                547\n",
       "...                                  ...            ...                ...\n",
       "1448        electricity 8            577            577                577\n",
       "                        9            550            550                550\n",
       "                        10           518            518                518\n",
       "                        11           559            559                559\n",
       "                        12           473            473                473\n",
       "\n",
       "[28332 rows x 3 columns]"
      ]
     },
     "execution_count": 31,
     "metadata": {},
     "output_type": "execute_result"
    }
   ],
   "source": [
    "sample_df.groupby(['building_id', 'meter', 'month']).count()"
   ]
  },
  {
   "cell_type": "code",
   "execution_count": 34,
   "id": "legendary-hardware",
   "metadata": {
    "id": "legendary-hardware",
    "outputId": "a46ee10a-0fa3-46c7-84ea-6b6c251e358b"
   },
   "outputs": [
    {
     "data": {
      "text/html": [
       "<div>\n",
       "<style scoped>\n",
       "    .dataframe tbody tr th:only-of-type {\n",
       "        vertical-align: middle;\n",
       "    }\n",
       "\n",
       "    .dataframe tbody tr th {\n",
       "        vertical-align: top;\n",
       "    }\n",
       "\n",
       "    .dataframe thead th {\n",
       "        text-align: right;\n",
       "    }\n",
       "</style>\n",
       "<table border=\"1\" class=\"dataframe\">\n",
       "  <thead>\n",
       "    <tr style=\"text-align: right;\">\n",
       "      <th></th>\n",
       "      <th>building_id</th>\n",
       "      <th>meter</th>\n",
       "      <th>month</th>\n",
       "      <th>meter_reading</th>\n",
       "      <th>meter_reading_log</th>\n",
       "    </tr>\n",
       "  </thead>\n",
       "  <tbody>\n",
       "    <tr>\n",
       "      <th>0</th>\n",
       "      <td>0</td>\n",
       "      <td>electricity</td>\n",
       "      <td>1</td>\n",
       "      <td>0.238046</td>\n",
       "      <td>0.020342</td>\n",
       "    </tr>\n",
       "    <tr>\n",
       "      <th>1</th>\n",
       "      <td>0</td>\n",
       "      <td>electricity</td>\n",
       "      <td>2</td>\n",
       "      <td>0.000000</td>\n",
       "      <td>0.000000</td>\n",
       "    </tr>\n",
       "    <tr>\n",
       "      <th>2</th>\n",
       "      <td>0</td>\n",
       "      <td>electricity</td>\n",
       "      <td>3</td>\n",
       "      <td>0.000000</td>\n",
       "      <td>0.000000</td>\n",
       "    </tr>\n",
       "    <tr>\n",
       "      <th>3</th>\n",
       "      <td>0</td>\n",
       "      <td>electricity</td>\n",
       "      <td>4</td>\n",
       "      <td>0.112681</td>\n",
       "      <td>0.007781</td>\n",
       "    </tr>\n",
       "    <tr>\n",
       "      <th>4</th>\n",
       "      <td>0</td>\n",
       "      <td>electricity</td>\n",
       "      <td>5</td>\n",
       "      <td>79.768901</td>\n",
       "      <td>1.979048</td>\n",
       "    </tr>\n",
       "    <tr>\n",
       "      <th>...</th>\n",
       "      <td>...</td>\n",
       "      <td>...</td>\n",
       "      <td>...</td>\n",
       "      <td>...</td>\n",
       "      <td>...</td>\n",
       "    </tr>\n",
       "    <tr>\n",
       "      <th>28327</th>\n",
       "      <td>1448</td>\n",
       "      <td>electricity</td>\n",
       "      <td>8</td>\n",
       "      <td>3.301733</td>\n",
       "      <td>1.445406</td>\n",
       "    </tr>\n",
       "    <tr>\n",
       "      <th>28328</th>\n",
       "      <td>1448</td>\n",
       "      <td>electricity</td>\n",
       "      <td>9</td>\n",
       "      <td>3.183909</td>\n",
       "      <td>1.418563</td>\n",
       "    </tr>\n",
       "    <tr>\n",
       "      <th>28329</th>\n",
       "      <td>1448</td>\n",
       "      <td>electricity</td>\n",
       "      <td>10</td>\n",
       "      <td>3.327558</td>\n",
       "      <td>1.452977</td>\n",
       "    </tr>\n",
       "    <tr>\n",
       "      <th>28330</th>\n",
       "      <td>1448</td>\n",
       "      <td>electricity</td>\n",
       "      <td>11</td>\n",
       "      <td>3.422764</td>\n",
       "      <td>1.475920</td>\n",
       "    </tr>\n",
       "    <tr>\n",
       "      <th>28331</th>\n",
       "      <td>1448</td>\n",
       "      <td>electricity</td>\n",
       "      <td>12</td>\n",
       "      <td>3.586416</td>\n",
       "      <td>1.514500</td>\n",
       "    </tr>\n",
       "  </tbody>\n",
       "</table>\n",
       "<p>28332 rows × 5 columns</p>\n",
       "</div>"
      ],
      "text/plain": [
       "       building_id        meter  month  meter_reading  meter_reading_log\n",
       "0                0  electricity      1       0.238046           0.020342\n",
       "1                0  electricity      2       0.000000           0.000000\n",
       "2                0  electricity      3       0.000000           0.000000\n",
       "3                0  electricity      4       0.112681           0.007781\n",
       "4                0  electricity      5      79.768901           1.979048\n",
       "...            ...          ...    ...            ...                ...\n",
       "28327         1448  electricity      8       3.301733           1.445406\n",
       "28328         1448  electricity      9       3.183909           1.418563\n",
       "28329         1448  electricity     10       3.327558           1.452977\n",
       "28330         1448  electricity     11       3.422764           1.475920\n",
       "28331         1448  electricity     12       3.586416           1.514500\n",
       "\n",
       "[28332 rows x 5 columns]"
      ]
     },
     "execution_count": 34,
     "metadata": {},
     "output_type": "execute_result"
    }
   ],
   "source": [
    "sample_df = sample_df.groupby(['building_id', 'meter', 'month']).mean()\n",
    "sample_df = sample_df.reset_index()\n",
    "sample_df"
   ]
  },
  {
   "cell_type": "markdown",
   "id": "comparative-private",
   "metadata": {
    "id": "comparative-private"
   },
   "source": [
    "## Exploring \"weather_train.csv\" file"
   ]
  },
  {
   "cell_type": "code",
   "execution_count": 39,
   "id": "nearby-constitutional",
   "metadata": {
    "id": "nearby-constitutional",
    "outputId": "578f41a7-3149-424c-d7fc-4f5916a05df6"
   },
   "outputs": [
    {
     "data": {
      "text/html": [
       "<div>\n",
       "<style scoped>\n",
       "    .dataframe tbody tr th:only-of-type {\n",
       "        vertical-align: middle;\n",
       "    }\n",
       "\n",
       "    .dataframe tbody tr th {\n",
       "        vertical-align: top;\n",
       "    }\n",
       "\n",
       "    .dataframe thead th {\n",
       "        text-align: right;\n",
       "    }\n",
       "</style>\n",
       "<table border=\"1\" class=\"dataframe\">\n",
       "  <thead>\n",
       "    <tr style=\"text-align: right;\">\n",
       "      <th></th>\n",
       "      <th>site_id</th>\n",
       "      <th>timestamp</th>\n",
       "      <th>air_temperature</th>\n",
       "      <th>cloud_coverage</th>\n",
       "      <th>dew_temperature</th>\n",
       "      <th>precip_depth_1_hr</th>\n",
       "      <th>sea_level_pressure</th>\n",
       "      <th>wind_direction</th>\n",
       "      <th>wind_speed</th>\n",
       "    </tr>\n",
       "  </thead>\n",
       "  <tbody>\n",
       "    <tr>\n",
       "      <th>0</th>\n",
       "      <td>0</td>\n",
       "      <td>2016-01-01 00:00:00</td>\n",
       "      <td>25.0</td>\n",
       "      <td>6.0</td>\n",
       "      <td>20.0</td>\n",
       "      <td>NaN</td>\n",
       "      <td>1019.7</td>\n",
       "      <td>0.0</td>\n",
       "      <td>0.0</td>\n",
       "    </tr>\n",
       "    <tr>\n",
       "      <th>1</th>\n",
       "      <td>0</td>\n",
       "      <td>2016-01-01 01:00:00</td>\n",
       "      <td>24.4</td>\n",
       "      <td>NaN</td>\n",
       "      <td>21.1</td>\n",
       "      <td>-1.0</td>\n",
       "      <td>1020.2</td>\n",
       "      <td>70.0</td>\n",
       "      <td>1.5</td>\n",
       "    </tr>\n",
       "    <tr>\n",
       "      <th>2</th>\n",
       "      <td>0</td>\n",
       "      <td>2016-01-01 02:00:00</td>\n",
       "      <td>22.8</td>\n",
       "      <td>2.0</td>\n",
       "      <td>21.1</td>\n",
       "      <td>0.0</td>\n",
       "      <td>1020.2</td>\n",
       "      <td>0.0</td>\n",
       "      <td>0.0</td>\n",
       "    </tr>\n",
       "    <tr>\n",
       "      <th>3</th>\n",
       "      <td>0</td>\n",
       "      <td>2016-01-01 03:00:00</td>\n",
       "      <td>21.1</td>\n",
       "      <td>2.0</td>\n",
       "      <td>20.6</td>\n",
       "      <td>0.0</td>\n",
       "      <td>1020.1</td>\n",
       "      <td>0.0</td>\n",
       "      <td>0.0</td>\n",
       "    </tr>\n",
       "    <tr>\n",
       "      <th>4</th>\n",
       "      <td>0</td>\n",
       "      <td>2016-01-01 04:00:00</td>\n",
       "      <td>20.0</td>\n",
       "      <td>2.0</td>\n",
       "      <td>20.0</td>\n",
       "      <td>-1.0</td>\n",
       "      <td>1020.0</td>\n",
       "      <td>250.0</td>\n",
       "      <td>2.6</td>\n",
       "    </tr>\n",
       "    <tr>\n",
       "      <th>...</th>\n",
       "      <td>...</td>\n",
       "      <td>...</td>\n",
       "      <td>...</td>\n",
       "      <td>...</td>\n",
       "      <td>...</td>\n",
       "      <td>...</td>\n",
       "      <td>...</td>\n",
       "      <td>...</td>\n",
       "      <td>...</td>\n",
       "    </tr>\n",
       "    <tr>\n",
       "      <th>139768</th>\n",
       "      <td>15</td>\n",
       "      <td>2016-12-31 19:00:00</td>\n",
       "      <td>3.0</td>\n",
       "      <td>NaN</td>\n",
       "      <td>-8.0</td>\n",
       "      <td>NaN</td>\n",
       "      <td>NaN</td>\n",
       "      <td>180.0</td>\n",
       "      <td>5.7</td>\n",
       "    </tr>\n",
       "    <tr>\n",
       "      <th>139769</th>\n",
       "      <td>15</td>\n",
       "      <td>2016-12-31 20:00:00</td>\n",
       "      <td>2.8</td>\n",
       "      <td>2.0</td>\n",
       "      <td>-8.9</td>\n",
       "      <td>NaN</td>\n",
       "      <td>1007.4</td>\n",
       "      <td>180.0</td>\n",
       "      <td>7.7</td>\n",
       "    </tr>\n",
       "    <tr>\n",
       "      <th>139770</th>\n",
       "      <td>15</td>\n",
       "      <td>2016-12-31 21:00:00</td>\n",
       "      <td>2.8</td>\n",
       "      <td>NaN</td>\n",
       "      <td>-7.2</td>\n",
       "      <td>NaN</td>\n",
       "      <td>1007.5</td>\n",
       "      <td>180.0</td>\n",
       "      <td>5.1</td>\n",
       "    </tr>\n",
       "    <tr>\n",
       "      <th>139771</th>\n",
       "      <td>15</td>\n",
       "      <td>2016-12-31 22:00:00</td>\n",
       "      <td>2.2</td>\n",
       "      <td>NaN</td>\n",
       "      <td>-6.7</td>\n",
       "      <td>NaN</td>\n",
       "      <td>1008.0</td>\n",
       "      <td>170.0</td>\n",
       "      <td>4.6</td>\n",
       "    </tr>\n",
       "    <tr>\n",
       "      <th>139772</th>\n",
       "      <td>15</td>\n",
       "      <td>2016-12-31 23:00:00</td>\n",
       "      <td>1.7</td>\n",
       "      <td>NaN</td>\n",
       "      <td>-5.6</td>\n",
       "      <td>-1.0</td>\n",
       "      <td>1008.5</td>\n",
       "      <td>180.0</td>\n",
       "      <td>8.8</td>\n",
       "    </tr>\n",
       "  </tbody>\n",
       "</table>\n",
       "<p>139773 rows × 9 columns</p>\n",
       "</div>"
      ],
      "text/plain": [
       "        site_id            timestamp  air_temperature  cloud_coverage  \\\n",
       "0             0  2016-01-01 00:00:00             25.0             6.0   \n",
       "1             0  2016-01-01 01:00:00             24.4             NaN   \n",
       "2             0  2016-01-01 02:00:00             22.8             2.0   \n",
       "3             0  2016-01-01 03:00:00             21.1             2.0   \n",
       "4             0  2016-01-01 04:00:00             20.0             2.0   \n",
       "...         ...                  ...              ...             ...   \n",
       "139768       15  2016-12-31 19:00:00              3.0             NaN   \n",
       "139769       15  2016-12-31 20:00:00              2.8             2.0   \n",
       "139770       15  2016-12-31 21:00:00              2.8             NaN   \n",
       "139771       15  2016-12-31 22:00:00              2.2             NaN   \n",
       "139772       15  2016-12-31 23:00:00              1.7             NaN   \n",
       "\n",
       "        dew_temperature  precip_depth_1_hr  sea_level_pressure  \\\n",
       "0                  20.0                NaN              1019.7   \n",
       "1                  21.1               -1.0              1020.2   \n",
       "2                  21.1                0.0              1020.2   \n",
       "3                  20.6                0.0              1020.1   \n",
       "4                  20.0               -1.0              1020.0   \n",
       "...                 ...                ...                 ...   \n",
       "139768             -8.0                NaN                 NaN   \n",
       "139769             -8.9                NaN              1007.4   \n",
       "139770             -7.2                NaN              1007.5   \n",
       "139771             -6.7                NaN              1008.0   \n",
       "139772             -5.6               -1.0              1008.5   \n",
       "\n",
       "        wind_direction  wind_speed  \n",
       "0                  0.0         0.0  \n",
       "1                 70.0         1.5  \n",
       "2                  0.0         0.0  \n",
       "3                  0.0         0.0  \n",
       "4                250.0         2.6  \n",
       "...                ...         ...  \n",
       "139768           180.0         5.7  \n",
       "139769           180.0         7.7  \n",
       "139770           180.0         5.1  \n",
       "139771           170.0         4.6  \n",
       "139772           180.0         8.8  \n",
       "\n",
       "[139773 rows x 9 columns]"
      ]
     },
     "execution_count": 39,
     "metadata": {},
     "output_type": "execute_result"
    }
   ],
   "source": [
    "file_name = 'weather_train.csv'\n",
    "weather_train_df = pd.read_csv(file_name)\n",
    "weather_train_df"
   ]
  },
  {
   "cell_type": "code",
   "execution_count": 40,
   "id": "imposed-veteran",
   "metadata": {
    "id": "imposed-veteran"
   },
   "outputs": [],
   "source": [
    "weather_train_df['timestamp'] = pd.to_datetime(weather_train_df.timestamp, format='%Y-%m-%d')\n",
    "weather_train_df[\"month\"] = weather_train_df.timestamp.dt.month"
   ]
  },
  {
   "cell_type": "code",
   "execution_count": 41,
   "id": "portable-marshall",
   "metadata": {
    "id": "portable-marshall",
    "outputId": "7127e6ce-e6d8-42f8-f591-73522c2a3597"
   },
   "outputs": [
    {
     "name": "stdout",
     "output_type": "stream",
     "text": [
      "<class 'pandas.core.frame.DataFrame'>\n",
      "RangeIndex: 139773 entries, 0 to 139772\n",
      "Data columns (total 10 columns):\n",
      " #   Column              Non-Null Count   Dtype         \n",
      "---  ------              --------------   -----         \n",
      " 0   site_id             139773 non-null  int64         \n",
      " 1   timestamp           139773 non-null  datetime64[ns]\n",
      " 2   air_temperature     139718 non-null  float64       \n",
      " 3   cloud_coverage      70600 non-null   float64       \n",
      " 4   dew_temperature     139660 non-null  float64       \n",
      " 5   precip_depth_1_hr   89484 non-null   float64       \n",
      " 6   sea_level_pressure  129155 non-null  float64       \n",
      " 7   wind_direction      133505 non-null  float64       \n",
      " 8   wind_speed          139469 non-null  float64       \n",
      " 9   month               139773 non-null  int64         \n",
      "dtypes: datetime64[ns](1), float64(7), int64(2)\n",
      "memory usage: 10.7 MB\n"
     ]
    }
   ],
   "source": [
    "weather_train_df.info()"
   ]
  },
  {
   "cell_type": "code",
   "execution_count": 42,
   "id": "excellent-happiness",
   "metadata": {
    "id": "excellent-happiness",
    "outputId": "9989b5ef-5e39-4664-d6ac-f1a8ed804d36"
   },
   "outputs": [
    {
     "data": {
      "text/html": [
       "<div>\n",
       "<style scoped>\n",
       "    .dataframe tbody tr th:only-of-type {\n",
       "        vertical-align: middle;\n",
       "    }\n",
       "\n",
       "    .dataframe tbody tr th {\n",
       "        vertical-align: top;\n",
       "    }\n",
       "\n",
       "    .dataframe thead th {\n",
       "        text-align: right;\n",
       "    }\n",
       "</style>\n",
       "<table border=\"1\" class=\"dataframe\">\n",
       "  <thead>\n",
       "    <tr style=\"text-align: right;\">\n",
       "      <th></th>\n",
       "      <th>site_id</th>\n",
       "      <th>air_temperature</th>\n",
       "      <th>dew_temperature</th>\n",
       "      <th>sea_level_pressure</th>\n",
       "      <th>wind_direction</th>\n",
       "      <th>wind_speed</th>\n",
       "      <th>month</th>\n",
       "    </tr>\n",
       "  </thead>\n",
       "  <tbody>\n",
       "    <tr>\n",
       "      <th>0</th>\n",
       "      <td>0</td>\n",
       "      <td>25.0</td>\n",
       "      <td>20.0</td>\n",
       "      <td>1019.7</td>\n",
       "      <td>0.0</td>\n",
       "      <td>0.0</td>\n",
       "      <td>1</td>\n",
       "    </tr>\n",
       "    <tr>\n",
       "      <th>1</th>\n",
       "      <td>0</td>\n",
       "      <td>24.4</td>\n",
       "      <td>21.1</td>\n",
       "      <td>1020.2</td>\n",
       "      <td>70.0</td>\n",
       "      <td>1.5</td>\n",
       "      <td>1</td>\n",
       "    </tr>\n",
       "    <tr>\n",
       "      <th>2</th>\n",
       "      <td>0</td>\n",
       "      <td>22.8</td>\n",
       "      <td>21.1</td>\n",
       "      <td>1020.2</td>\n",
       "      <td>0.0</td>\n",
       "      <td>0.0</td>\n",
       "      <td>1</td>\n",
       "    </tr>\n",
       "    <tr>\n",
       "      <th>3</th>\n",
       "      <td>0</td>\n",
       "      <td>21.1</td>\n",
       "      <td>20.6</td>\n",
       "      <td>1020.1</td>\n",
       "      <td>0.0</td>\n",
       "      <td>0.0</td>\n",
       "      <td>1</td>\n",
       "    </tr>\n",
       "    <tr>\n",
       "      <th>4</th>\n",
       "      <td>0</td>\n",
       "      <td>20.0</td>\n",
       "      <td>20.0</td>\n",
       "      <td>1020.0</td>\n",
       "      <td>250.0</td>\n",
       "      <td>2.6</td>\n",
       "      <td>1</td>\n",
       "    </tr>\n",
       "    <tr>\n",
       "      <th>...</th>\n",
       "      <td>...</td>\n",
       "      <td>...</td>\n",
       "      <td>...</td>\n",
       "      <td>...</td>\n",
       "      <td>...</td>\n",
       "      <td>...</td>\n",
       "      <td>...</td>\n",
       "    </tr>\n",
       "    <tr>\n",
       "      <th>139768</th>\n",
       "      <td>15</td>\n",
       "      <td>3.0</td>\n",
       "      <td>-8.0</td>\n",
       "      <td>NaN</td>\n",
       "      <td>180.0</td>\n",
       "      <td>5.7</td>\n",
       "      <td>12</td>\n",
       "    </tr>\n",
       "    <tr>\n",
       "      <th>139769</th>\n",
       "      <td>15</td>\n",
       "      <td>2.8</td>\n",
       "      <td>-8.9</td>\n",
       "      <td>1007.4</td>\n",
       "      <td>180.0</td>\n",
       "      <td>7.7</td>\n",
       "      <td>12</td>\n",
       "    </tr>\n",
       "    <tr>\n",
       "      <th>139770</th>\n",
       "      <td>15</td>\n",
       "      <td>2.8</td>\n",
       "      <td>-7.2</td>\n",
       "      <td>1007.5</td>\n",
       "      <td>180.0</td>\n",
       "      <td>5.1</td>\n",
       "      <td>12</td>\n",
       "    </tr>\n",
       "    <tr>\n",
       "      <th>139771</th>\n",
       "      <td>15</td>\n",
       "      <td>2.2</td>\n",
       "      <td>-6.7</td>\n",
       "      <td>1008.0</td>\n",
       "      <td>170.0</td>\n",
       "      <td>4.6</td>\n",
       "      <td>12</td>\n",
       "    </tr>\n",
       "    <tr>\n",
       "      <th>139772</th>\n",
       "      <td>15</td>\n",
       "      <td>1.7</td>\n",
       "      <td>-5.6</td>\n",
       "      <td>1008.5</td>\n",
       "      <td>180.0</td>\n",
       "      <td>8.8</td>\n",
       "      <td>12</td>\n",
       "    </tr>\n",
       "  </tbody>\n",
       "</table>\n",
       "<p>139773 rows × 7 columns</p>\n",
       "</div>"
      ],
      "text/plain": [
       "        site_id  air_temperature  dew_temperature  sea_level_pressure  \\\n",
       "0             0             25.0             20.0              1019.7   \n",
       "1             0             24.4             21.1              1020.2   \n",
       "2             0             22.8             21.1              1020.2   \n",
       "3             0             21.1             20.6              1020.1   \n",
       "4             0             20.0             20.0              1020.0   \n",
       "...         ...              ...              ...                 ...   \n",
       "139768       15              3.0             -8.0                 NaN   \n",
       "139769       15              2.8             -8.9              1007.4   \n",
       "139770       15              2.8             -7.2              1007.5   \n",
       "139771       15              2.2             -6.7              1008.0   \n",
       "139772       15              1.7             -5.6              1008.5   \n",
       "\n",
       "        wind_direction  wind_speed  month  \n",
       "0                  0.0         0.0      1  \n",
       "1                 70.0         1.5      1  \n",
       "2                  0.0         0.0      1  \n",
       "3                  0.0         0.0      1  \n",
       "4                250.0         2.6      1  \n",
       "...                ...         ...    ...  \n",
       "139768           180.0         5.7     12  \n",
       "139769           180.0         7.7     12  \n",
       "139770           180.0         5.1     12  \n",
       "139771           170.0         4.6     12  \n",
       "139772           180.0         8.8     12  \n",
       "\n",
       "[139773 rows x 7 columns]"
      ]
     },
     "execution_count": 42,
     "metadata": {},
     "output_type": "execute_result"
    }
   ],
   "source": [
    "drop_col = ['timestamp','cloud_coverage','precip_depth_1_hr']\n",
    "weather_train_df.drop(drop_col, axis=1, inplace = True)\n",
    "weather_train_df"
   ]
  },
  {
   "cell_type": "code",
   "execution_count": 43,
   "id": "motivated-eugene",
   "metadata": {
    "id": "motivated-eugene"
   },
   "outputs": [],
   "source": [
    "def check_zeros(col):\n",
    "    return len(weather_train_df[col==0])"
   ]
  },
  {
   "cell_type": "code",
   "execution_count": 44,
   "id": "specialized-oxford",
   "metadata": {
    "id": "specialized-oxford",
    "outputId": "ab75056b-f0b3-4c6c-c393-5a7f0f9ea2fd"
   },
   "outputs": [
    {
     "name": "stdout",
     "output_type": "stream",
     "text": [
      "There are 0 coloumns with zeros in month\n",
      "There are 812 coloumns with zeros in air_temperature\n",
      "There are 2013 coloumns with zeros in dew_temperature\n",
      "There are 0 coloumns with zeros in sea_level_pressure\n",
      "There are 13154 coloumns with zeros in wind_direction\n",
      "There are 13542 coloumns with zeros in wind_speed\n"
     ]
    }
   ],
   "source": [
    "checked_cols = ['month','air_temperature','dew_temperature','sea_level_pressure','wind_direction','wind_speed']\n",
    "for col in checked_cols:\n",
    "    print(f'There are {check_zeros(weather_train_df[col])} coloumns with zeros in {col}')"
   ]
  },
  {
   "cell_type": "code",
   "execution_count": 45,
   "id": "recreational-round",
   "metadata": {
    "id": "recreational-round",
    "outputId": "1e7db0a9-e022-44e6-aad9-917ee3e11ed6"
   },
   "outputs": [
    {
     "data": {
      "text/plain": [
       "1188"
      ]
     },
     "execution_count": 45,
     "metadata": {},
     "output_type": "execute_result"
    }
   ],
   "source": [
    "sum(weather_train_df.duplicated())"
   ]
  },
  {
   "cell_type": "code",
   "execution_count": 46,
   "id": "systematic-firewall",
   "metadata": {
    "id": "systematic-firewall"
   },
   "outputs": [],
   "source": [
    "for col in checked_cols:\n",
    "    weather_train_df[col] = weather_train_df[col].replace(0, np.NAN)"
   ]
  },
  {
   "cell_type": "code",
   "execution_count": 47,
   "id": "instructional-trance",
   "metadata": {
    "id": "instructional-trance",
    "outputId": "a8d7f441-ee23-4c74-dd42-1eb2be51a0bf"
   },
   "outputs": [
    {
     "name": "stdout",
     "output_type": "stream",
     "text": [
      "There are 0 rows with zero in month\n",
      "There are 0 rows with zero in air_temperature\n",
      "There are 0 rows with zero in dew_temperature\n",
      "There are 0 rows with zero in sea_level_pressure\n",
      "There are 0 rows with zero in wind_direction\n",
      "There are 0 rows with zero in wind_speed\n"
     ]
    }
   ],
   "source": [
    "for col in checked_cols:\n",
    "    print(f'There are {check_zeros(weather_train_df[col])} rows with zero in {col}')"
   ]
  },
  {
   "cell_type": "code",
   "execution_count": 48,
   "id": "sitting-folder",
   "metadata": {
    "id": "sitting-folder"
   },
   "outputs": [],
   "source": [
    "weather_train_df.dropna(subset = checked_cols, inplace = True)"
   ]
  },
  {
   "cell_type": "code",
   "execution_count": 49,
   "id": "reduced-costs",
   "metadata": {
    "id": "reduced-costs",
    "outputId": "a58334ad-b5c0-41cc-d2c4-730791ddf1e2"
   },
   "outputs": [
    {
     "name": "stdout",
     "output_type": "stream",
     "text": [
      "There are 0 NaN in site_id\n",
      "There are 0 NaN in air_temperature\n",
      "There are 0 NaN in dew_temperature\n",
      "There are 0 NaN in sea_level_pressure\n",
      "There are 0 NaN in wind_direction\n",
      "There are 0 NaN in wind_speed\n",
      "There are 0 NaN in month\n",
      "\n",
      "Now there are 107950 rows with 7 columns\n"
     ]
    }
   ],
   "source": [
    "def check_nan(col):\n",
    "    return sum(col.isnull())\n",
    "\n",
    "for col in weather_train_df:\n",
    "    print(f'There are {check_nan(weather_train_df[col])} NaN in {col}')\n",
    "    \n",
    "print(f'\\nNow there are {weather_train_df.shape[0]} rows with {weather_train_df.shape[1]} columns')"
   ]
  },
  {
   "cell_type": "code",
   "execution_count": 50,
   "id": "applied-fever",
   "metadata": {
    "id": "applied-fever",
    "outputId": "7fa9d331-9c5e-4c5b-da54-afd8c2df11dd"
   },
   "outputs": [
    {
     "name": "stdout",
     "output_type": "stream",
     "text": [
      "<class 'pandas.core.frame.DataFrame'>\n",
      "Int64Index: 107950 entries, 1 to 139772\n",
      "Data columns (total 7 columns):\n",
      " #   Column              Non-Null Count   Dtype  \n",
      "---  ------              --------------   -----  \n",
      " 0   site_id             107950 non-null  int64  \n",
      " 1   air_temperature     107950 non-null  float64\n",
      " 2   dew_temperature     107950 non-null  float64\n",
      " 3   sea_level_pressure  107950 non-null  float64\n",
      " 4   wind_direction      107950 non-null  float64\n",
      " 5   wind_speed          107950 non-null  float64\n",
      " 6   month               107950 non-null  int64  \n",
      "dtypes: float64(5), int64(2)\n",
      "memory usage: 6.6 MB\n"
     ]
    }
   ],
   "source": [
    "weather_train_df.info()"
   ]
  },
  {
   "cell_type": "code",
   "execution_count": 51,
   "id": "refined-barbados",
   "metadata": {
    "id": "refined-barbados",
    "outputId": "b2f29eb7-be58-46d2-db75-85969cf7d0da"
   },
   "outputs": [
    {
     "data": {
      "image/png": "[encoded data removed]",
      "text/plain": [
       "<Figure size 432x288 with 1 Axes>"
      ]
     },
     "metadata": {
      "needs_background": "light"
     },
     "output_type": "display_data"
    }
   ],
   "source": [
    "plot = weather_train_df.boxplot(col, by=\"site_id\")\n",
    "plt.tight_layout() \n",
    "plt.show()"
   ]
  },
  {
   "cell_type": "code",
   "execution_count": 52,
   "id": "frank-behavior",
   "metadata": {
    "id": "frank-behavior",
    "outputId": "aff9e473-4459-4ec1-a80a-73df5f9835b1"
   },
   "outputs": [
    {
     "data": {
      "text/plain": [
       "<AxesSubplot:>"
      ]
     },
     "execution_count": 52,
     "metadata": {},
     "output_type": "execute_result"
    },
    {
     "data": {
      "image/png": "[encoded data removed]",
      "text/plain": [
       "<Figure size 432x288 with 2 Axes>"
      ]
     },
     "metadata": {
      "needs_background": "light"
     },
     "output_type": "display_data"
    }
   ],
   "source": [
    "sb.heatmap(weather_train_df.corr(),linewidths=.5,cmap=\"YlGnBu\")"
   ]
  },
  {
   "cell_type": "code",
   "execution_count": 53,
   "id": "exotic-envelope",
   "metadata": {
    "id": "exotic-envelope",
    "outputId": "0cac097c-b43e-4618-fe57-2bf40ebc1a28"
   },
   "outputs": [
    {
     "name": "stdout",
     "output_type": "stream",
     "text": [
      "7406\n",
      "8651\n",
      "6766\n"
     ]
    }
   ],
   "source": [
    "##For every site there are multiple records taken in different timestamps\n",
    "print(len(weather_train_df[weather_train_df['site_id'] == 0]))\n",
    "print(len(weather_train_df[weather_train_df['site_id'] == 1]))\n",
    "print(len(weather_train_df[weather_train_df['site_id'] == 2]))"
   ]
  },
  {
   "cell_type": "code",
   "execution_count": 54,
   "id": "noticed-machine",
   "metadata": {
    "id": "noticed-machine",
    "outputId": "9a92b02a-e1c9-43e4-db9d-8072995dbb3f"
   },
   "outputs": [
    {
     "data": {
      "text/html": [
       "<div>\n",
       "<style scoped>\n",
       "    .dataframe tbody tr th:only-of-type {\n",
       "        vertical-align: middle;\n",
       "    }\n",
       "\n",
       "    .dataframe tbody tr th {\n",
       "        vertical-align: top;\n",
       "    }\n",
       "\n",
       "    .dataframe thead th {\n",
       "        text-align: right;\n",
       "    }\n",
       "</style>\n",
       "<table border=\"1\" class=\"dataframe\">\n",
       "  <thead>\n",
       "    <tr style=\"text-align: right;\">\n",
       "      <th></th>\n",
       "      <th>site_id</th>\n",
       "      <th>month</th>\n",
       "      <th>air_temperature</th>\n",
       "      <th>dew_temperature</th>\n",
       "      <th>sea_level_pressure</th>\n",
       "      <th>wind_direction</th>\n",
       "      <th>wind_speed</th>\n",
       "    </tr>\n",
       "  </thead>\n",
       "  <tbody>\n",
       "    <tr>\n",
       "      <th>0</th>\n",
       "      <td>0</td>\n",
       "      <td>1</td>\n",
       "      <td>14.830351</td>\n",
       "      <td>9.098083</td>\n",
       "      <td>1017.830990</td>\n",
       "      <td>220.718850</td>\n",
       "      <td>4.124441</td>\n",
       "    </tr>\n",
       "    <tr>\n",
       "      <th>1</th>\n",
       "      <td>0</td>\n",
       "      <td>2</td>\n",
       "      <td>16.330844</td>\n",
       "      <td>8.838636</td>\n",
       "      <td>1019.960877</td>\n",
       "      <td>215.649351</td>\n",
       "      <td>4.473864</td>\n",
       "    </tr>\n",
       "    <tr>\n",
       "      <th>2</th>\n",
       "      <td>0</td>\n",
       "      <td>3</td>\n",
       "      <td>21.662691</td>\n",
       "      <td>14.527217</td>\n",
       "      <td>1018.487309</td>\n",
       "      <td>192.140673</td>\n",
       "      <td>4.035933</td>\n",
       "    </tr>\n",
       "    <tr>\n",
       "      <th>3</th>\n",
       "      <td>0</td>\n",
       "      <td>4</td>\n",
       "      <td>22.495702</td>\n",
       "      <td>14.559008</td>\n",
       "      <td>1017.275537</td>\n",
       "      <td>160.413223</td>\n",
       "      <td>4.168264</td>\n",
       "    </tr>\n",
       "    <tr>\n",
       "      <th>4</th>\n",
       "      <td>0</td>\n",
       "      <td>5</td>\n",
       "      <td>24.919063</td>\n",
       "      <td>17.213732</td>\n",
       "      <td>1016.040065</td>\n",
       "      <td>180.630048</td>\n",
       "      <td>3.736995</td>\n",
       "    </tr>\n",
       "    <tr>\n",
       "      <th>...</th>\n",
       "      <td>...</td>\n",
       "      <td>...</td>\n",
       "      <td>...</td>\n",
       "      <td>...</td>\n",
       "      <td>...</td>\n",
       "      <td>...</td>\n",
       "      <td>...</td>\n",
       "    </tr>\n",
       "    <tr>\n",
       "      <th>175</th>\n",
       "      <td>15</td>\n",
       "      <td>8</td>\n",
       "      <td>22.616636</td>\n",
       "      <td>17.500555</td>\n",
       "      <td>1017.525878</td>\n",
       "      <td>188.983364</td>\n",
       "      <td>3.366359</td>\n",
       "    </tr>\n",
       "    <tr>\n",
       "      <th>176</th>\n",
       "      <td>15</td>\n",
       "      <td>9</td>\n",
       "      <td>17.208503</td>\n",
       "      <td>12.344362</td>\n",
       "      <td>1019.955268</td>\n",
       "      <td>169.279113</td>\n",
       "      <td>3.242144</td>\n",
       "    </tr>\n",
       "    <tr>\n",
       "      <th>177</th>\n",
       "      <td>15</td>\n",
       "      <td>10</td>\n",
       "      <td>10.391219</td>\n",
       "      <td>6.956810</td>\n",
       "      <td>1019.793728</td>\n",
       "      <td>212.025090</td>\n",
       "      <td>4.143907</td>\n",
       "    </tr>\n",
       "    <tr>\n",
       "      <th>178</th>\n",
       "      <td>15</td>\n",
       "      <td>11</td>\n",
       "      <td>5.474095</td>\n",
       "      <td>1.120571</td>\n",
       "      <td>1017.960762</td>\n",
       "      <td>225.047619</td>\n",
       "      <td>4.486286</td>\n",
       "    </tr>\n",
       "    <tr>\n",
       "      <th>179</th>\n",
       "      <td>15</td>\n",
       "      <td>12</td>\n",
       "      <td>-1.681169</td>\n",
       "      <td>-5.443669</td>\n",
       "      <td>1018.666396</td>\n",
       "      <td>224.740260</td>\n",
       "      <td>4.984091</td>\n",
       "    </tr>\n",
       "  </tbody>\n",
       "</table>\n",
       "<p>180 rows × 7 columns</p>\n",
       "</div>"
      ],
      "text/plain": [
       "     site_id  month  air_temperature  dew_temperature  sea_level_pressure  \\\n",
       "0          0      1        14.830351         9.098083         1017.830990   \n",
       "1          0      2        16.330844         8.838636         1019.960877   \n",
       "2          0      3        21.662691        14.527217         1018.487309   \n",
       "3          0      4        22.495702        14.559008         1017.275537   \n",
       "4          0      5        24.919063        17.213732         1016.040065   \n",
       "..       ...    ...              ...              ...                 ...   \n",
       "175       15      8        22.616636        17.500555         1017.525878   \n",
       "176       15      9        17.208503        12.344362         1019.955268   \n",
       "177       15     10        10.391219         6.956810         1019.793728   \n",
       "178       15     11         5.474095         1.120571         1017.960762   \n",
       "179       15     12        -1.681169        -5.443669         1018.666396   \n",
       "\n",
       "     wind_direction  wind_speed  \n",
       "0        220.718850    4.124441  \n",
       "1        215.649351    4.473864  \n",
       "2        192.140673    4.035933  \n",
       "3        160.413223    4.168264  \n",
       "4        180.630048    3.736995  \n",
       "..              ...         ...  \n",
       "175      188.983364    3.366359  \n",
       "176      169.279113    3.242144  \n",
       "177      212.025090    4.143907  \n",
       "178      225.047619    4.486286  \n",
       "179      224.740260    4.984091  \n",
       "\n",
       "[180 rows x 7 columns]"
      ]
     },
     "execution_count": 54,
     "metadata": {},
     "output_type": "execute_result"
    }
   ],
   "source": [
    "weather_train_df_t = weather_train_df.groupby(['site_id', 'month']).mean()\n",
    "weather_train_df_t.reset_index()"
   ]
  },
  {
   "cell_type": "markdown",
   "id": "acknowledged-evolution",
   "metadata": {
    "id": "acknowledged-evolution"
   },
   "source": [
    "## Merge files"
   ]
  },
  {
   "cell_type": "code",
   "execution_count": 55,
   "id": "blond-variable",
   "metadata": {
    "id": "blond-variable",
    "outputId": "24a5a65c-3835-4448-a605-db9b5cae56c4"
   },
   "outputs": [
    {
     "data": {
      "text/html": [
       "<div>\n",
       "<style scoped>\n",
       "    .dataframe tbody tr th:only-of-type {\n",
       "        vertical-align: middle;\n",
       "    }\n",
       "\n",
       "    .dataframe tbody tr th {\n",
       "        vertical-align: top;\n",
       "    }\n",
       "\n",
       "    .dataframe thead th {\n",
       "        text-align: right;\n",
       "    }\n",
       "</style>\n",
       "<table border=\"1\" class=\"dataframe\">\n",
       "  <thead>\n",
       "    <tr style=\"text-align: right;\">\n",
       "      <th></th>\n",
       "      <th>building_id</th>\n",
       "      <th>meter</th>\n",
       "      <th>month</th>\n",
       "      <th>meter_reading</th>\n",
       "      <th>meter_reading_log</th>\n",
       "      <th>site_id</th>\n",
       "      <th>primary_use</th>\n",
       "      <th>square_feet</th>\n",
       "    </tr>\n",
       "  </thead>\n",
       "  <tbody>\n",
       "    <tr>\n",
       "      <th>0</th>\n",
       "      <td>0</td>\n",
       "      <td>electricity</td>\n",
       "      <td>1</td>\n",
       "      <td>0.238046</td>\n",
       "      <td>0.020342</td>\n",
       "      <td>0</td>\n",
       "      <td>Education</td>\n",
       "      <td>7432</td>\n",
       "    </tr>\n",
       "    <tr>\n",
       "      <th>1</th>\n",
       "      <td>0</td>\n",
       "      <td>electricity</td>\n",
       "      <td>2</td>\n",
       "      <td>0.000000</td>\n",
       "      <td>0.000000</td>\n",
       "      <td>0</td>\n",
       "      <td>Education</td>\n",
       "      <td>7432</td>\n",
       "    </tr>\n",
       "    <tr>\n",
       "      <th>2</th>\n",
       "      <td>0</td>\n",
       "      <td>electricity</td>\n",
       "      <td>3</td>\n",
       "      <td>0.000000</td>\n",
       "      <td>0.000000</td>\n",
       "      <td>0</td>\n",
       "      <td>Education</td>\n",
       "      <td>7432</td>\n",
       "    </tr>\n",
       "    <tr>\n",
       "      <th>3</th>\n",
       "      <td>0</td>\n",
       "      <td>electricity</td>\n",
       "      <td>4</td>\n",
       "      <td>0.112681</td>\n",
       "      <td>0.007781</td>\n",
       "      <td>0</td>\n",
       "      <td>Education</td>\n",
       "      <td>7432</td>\n",
       "    </tr>\n",
       "    <tr>\n",
       "      <th>4</th>\n",
       "      <td>0</td>\n",
       "      <td>electricity</td>\n",
       "      <td>5</td>\n",
       "      <td>79.768901</td>\n",
       "      <td>1.979048</td>\n",
       "      <td>0</td>\n",
       "      <td>Education</td>\n",
       "      <td>7432</td>\n",
       "    </tr>\n",
       "    <tr>\n",
       "      <th>...</th>\n",
       "      <td>...</td>\n",
       "      <td>...</td>\n",
       "      <td>...</td>\n",
       "      <td>...</td>\n",
       "      <td>...</td>\n",
       "      <td>...</td>\n",
       "      <td>...</td>\n",
       "      <td>...</td>\n",
       "    </tr>\n",
       "    <tr>\n",
       "      <th>28327</th>\n",
       "      <td>1448</td>\n",
       "      <td>electricity</td>\n",
       "      <td>8</td>\n",
       "      <td>3.301733</td>\n",
       "      <td>1.445406</td>\n",
       "      <td>15</td>\n",
       "      <td>Office</td>\n",
       "      <td>92271</td>\n",
       "    </tr>\n",
       "    <tr>\n",
       "      <th>28328</th>\n",
       "      <td>1448</td>\n",
       "      <td>electricity</td>\n",
       "      <td>9</td>\n",
       "      <td>3.183909</td>\n",
       "      <td>1.418563</td>\n",
       "      <td>15</td>\n",
       "      <td>Office</td>\n",
       "      <td>92271</td>\n",
       "    </tr>\n",
       "    <tr>\n",
       "      <th>28329</th>\n",
       "      <td>1448</td>\n",
       "      <td>electricity</td>\n",
       "      <td>10</td>\n",
       "      <td>3.327558</td>\n",
       "      <td>1.452977</td>\n",
       "      <td>15</td>\n",
       "      <td>Office</td>\n",
       "      <td>92271</td>\n",
       "    </tr>\n",
       "    <tr>\n",
       "      <th>28330</th>\n",
       "      <td>1448</td>\n",
       "      <td>electricity</td>\n",
       "      <td>11</td>\n",
       "      <td>3.422764</td>\n",
       "      <td>1.475920</td>\n",
       "      <td>15</td>\n",
       "      <td>Office</td>\n",
       "      <td>92271</td>\n",
       "    </tr>\n",
       "    <tr>\n",
       "      <th>28331</th>\n",
       "      <td>1448</td>\n",
       "      <td>electricity</td>\n",
       "      <td>12</td>\n",
       "      <td>3.586416</td>\n",
       "      <td>1.514500</td>\n",
       "      <td>15</td>\n",
       "      <td>Office</td>\n",
       "      <td>92271</td>\n",
       "    </tr>\n",
       "  </tbody>\n",
       "</table>\n",
       "<p>28332 rows × 8 columns</p>\n",
       "</div>"
      ],
      "text/plain": [
       "       building_id        meter  month  meter_reading  meter_reading_log  \\\n",
       "0                0  electricity      1       0.238046           0.020342   \n",
       "1                0  electricity      2       0.000000           0.000000   \n",
       "2                0  electricity      3       0.000000           0.000000   \n",
       "3                0  electricity      4       0.112681           0.007781   \n",
       "4                0  electricity      5      79.768901           1.979048   \n",
       "...            ...          ...    ...            ...                ...   \n",
       "28327         1448  electricity      8       3.301733           1.445406   \n",
       "28328         1448  electricity      9       3.183909           1.418563   \n",
       "28329         1448  electricity     10       3.327558           1.452977   \n",
       "28330         1448  electricity     11       3.422764           1.475920   \n",
       "28331         1448  electricity     12       3.586416           1.514500   \n",
       "\n",
       "       site_id primary_use  square_feet  \n",
       "0            0   Education         7432  \n",
       "1            0   Education         7432  \n",
       "2            0   Education         7432  \n",
       "3            0   Education         7432  \n",
       "4            0   Education         7432  \n",
       "...        ...         ...          ...  \n",
       "28327       15      Office        92271  \n",
       "28328       15      Office        92271  \n",
       "28329       15      Office        92271  \n",
       "28330       15      Office        92271  \n",
       "28331       15      Office        92271  \n",
       "\n",
       "[28332 rows x 8 columns]"
      ]
     },
     "execution_count": 55,
     "metadata": {},
     "output_type": "execute_result"
    }
   ],
   "source": [
    "merged_df = sample_df.merge(building_df, on='building_id')\n",
    "merged_df"
   ]
  },
  {
   "cell_type": "code",
   "execution_count": 56,
   "id": "resistant-soundtrack",
   "metadata": {
    "id": "resistant-soundtrack",
    "outputId": "5064f352-8009-4008-8646-8f6872b345d6"
   },
   "outputs": [
    {
     "data": {
      "text/html": [
       "<div>\n",
       "<style scoped>\n",
       "    .dataframe tbody tr th:only-of-type {\n",
       "        vertical-align: middle;\n",
       "    }\n",
       "\n",
       "    .dataframe tbody tr th {\n",
       "        vertical-align: top;\n",
       "    }\n",
       "\n",
       "    .dataframe thead th {\n",
       "        text-align: right;\n",
       "    }\n",
       "</style>\n",
       "<table border=\"1\" class=\"dataframe\">\n",
       "  <thead>\n",
       "    <tr style=\"text-align: right;\">\n",
       "      <th></th>\n",
       "      <th>building_id</th>\n",
       "      <th>meter</th>\n",
       "      <th>month</th>\n",
       "      <th>meter_reading</th>\n",
       "      <th>meter_reading_log</th>\n",
       "      <th>site_id</th>\n",
       "      <th>primary_use</th>\n",
       "      <th>square_feet</th>\n",
       "      <th>air_temperature</th>\n",
       "      <th>dew_temperature</th>\n",
       "      <th>sea_level_pressure</th>\n",
       "      <th>wind_direction</th>\n",
       "      <th>wind_speed</th>\n",
       "    </tr>\n",
       "  </thead>\n",
       "  <tbody>\n",
       "    <tr>\n",
       "      <th>0</th>\n",
       "      <td>0</td>\n",
       "      <td>electricity</td>\n",
       "      <td>1</td>\n",
       "      <td>0.238046</td>\n",
       "      <td>0.020342</td>\n",
       "      <td>0</td>\n",
       "      <td>Education</td>\n",
       "      <td>7432</td>\n",
       "      <td>14.830351</td>\n",
       "      <td>9.098083</td>\n",
       "      <td>1017.830990</td>\n",
       "      <td>220.718850</td>\n",
       "      <td>4.124441</td>\n",
       "    </tr>\n",
       "    <tr>\n",
       "      <th>1</th>\n",
       "      <td>1</td>\n",
       "      <td>electricity</td>\n",
       "      <td>1</td>\n",
       "      <td>0.375049</td>\n",
       "      <td>0.057552</td>\n",
       "      <td>0</td>\n",
       "      <td>Education</td>\n",
       "      <td>2720</td>\n",
       "      <td>14.830351</td>\n",
       "      <td>9.098083</td>\n",
       "      <td>1017.830990</td>\n",
       "      <td>220.718850</td>\n",
       "      <td>4.124441</td>\n",
       "    </tr>\n",
       "    <tr>\n",
       "      <th>2</th>\n",
       "      <td>2</td>\n",
       "      <td>electricity</td>\n",
       "      <td>1</td>\n",
       "      <td>0.004334</td>\n",
       "      <td>0.002827</td>\n",
       "      <td>0</td>\n",
       "      <td>Education</td>\n",
       "      <td>5376</td>\n",
       "      <td>14.830351</td>\n",
       "      <td>9.098083</td>\n",
       "      <td>1017.830990</td>\n",
       "      <td>220.718850</td>\n",
       "      <td>4.124441</td>\n",
       "    </tr>\n",
       "    <tr>\n",
       "      <th>3</th>\n",
       "      <td>3</td>\n",
       "      <td>electricity</td>\n",
       "      <td>1</td>\n",
       "      <td>0.000000</td>\n",
       "      <td>0.000000</td>\n",
       "      <td>0</td>\n",
       "      <td>Education</td>\n",
       "      <td>23685</td>\n",
       "      <td>14.830351</td>\n",
       "      <td>9.098083</td>\n",
       "      <td>1017.830990</td>\n",
       "      <td>220.718850</td>\n",
       "      <td>4.124441</td>\n",
       "    </tr>\n",
       "    <tr>\n",
       "      <th>4</th>\n",
       "      <td>4</td>\n",
       "      <td>electricity</td>\n",
       "      <td>1</td>\n",
       "      <td>0.293036</td>\n",
       "      <td>0.015504</td>\n",
       "      <td>0</td>\n",
       "      <td>Education</td>\n",
       "      <td>116607</td>\n",
       "      <td>14.830351</td>\n",
       "      <td>9.098083</td>\n",
       "      <td>1017.830990</td>\n",
       "      <td>220.718850</td>\n",
       "      <td>4.124441</td>\n",
       "    </tr>\n",
       "    <tr>\n",
       "      <th>...</th>\n",
       "      <td>...</td>\n",
       "      <td>...</td>\n",
       "      <td>...</td>\n",
       "      <td>...</td>\n",
       "      <td>...</td>\n",
       "      <td>...</td>\n",
       "      <td>...</td>\n",
       "      <td>...</td>\n",
       "      <td>...</td>\n",
       "      <td>...</td>\n",
       "      <td>...</td>\n",
       "      <td>...</td>\n",
       "      <td>...</td>\n",
       "    </tr>\n",
       "    <tr>\n",
       "      <th>27259</th>\n",
       "      <td>1444</td>\n",
       "      <td>electricity</td>\n",
       "      <td>8</td>\n",
       "      <td>5.587117</td>\n",
       "      <td>1.847838</td>\n",
       "      <td>15</td>\n",
       "      <td>Entertainment/public assembly</td>\n",
       "      <td>19619</td>\n",
       "      <td>22.616636</td>\n",
       "      <td>17.500555</td>\n",
       "      <td>1017.525878</td>\n",
       "      <td>188.983364</td>\n",
       "      <td>3.366359</td>\n",
       "    </tr>\n",
       "    <tr>\n",
       "      <th>27260</th>\n",
       "      <td>1445</td>\n",
       "      <td>electricity</td>\n",
       "      <td>8</td>\n",
       "      <td>4.368139</td>\n",
       "      <td>1.629809</td>\n",
       "      <td>15</td>\n",
       "      <td>Education</td>\n",
       "      <td>4298</td>\n",
       "      <td>22.616636</td>\n",
       "      <td>17.500555</td>\n",
       "      <td>1017.525878</td>\n",
       "      <td>188.983364</td>\n",
       "      <td>3.366359</td>\n",
       "    </tr>\n",
       "    <tr>\n",
       "      <th>27261</th>\n",
       "      <td>1446</td>\n",
       "      <td>electricity</td>\n",
       "      <td>8</td>\n",
       "      <td>3.440288</td>\n",
       "      <td>0.964705</td>\n",
       "      <td>15</td>\n",
       "      <td>Entertainment/public assembly</td>\n",
       "      <td>11265</td>\n",
       "      <td>22.616636</td>\n",
       "      <td>17.500555</td>\n",
       "      <td>1017.525878</td>\n",
       "      <td>188.983364</td>\n",
       "      <td>3.366359</td>\n",
       "    </tr>\n",
       "    <tr>\n",
       "      <th>27262</th>\n",
       "      <td>1447</td>\n",
       "      <td>electricity</td>\n",
       "      <td>8</td>\n",
       "      <td>180.204745</td>\n",
       "      <td>5.191935</td>\n",
       "      <td>15</td>\n",
       "      <td>Lodging/residential</td>\n",
       "      <td>29775</td>\n",
       "      <td>22.616636</td>\n",
       "      <td>17.500555</td>\n",
       "      <td>1017.525878</td>\n",
       "      <td>188.983364</td>\n",
       "      <td>3.366359</td>\n",
       "    </tr>\n",
       "    <tr>\n",
       "      <th>27263</th>\n",
       "      <td>1448</td>\n",
       "      <td>electricity</td>\n",
       "      <td>8</td>\n",
       "      <td>3.301733</td>\n",
       "      <td>1.445406</td>\n",
       "      <td>15</td>\n",
       "      <td>Office</td>\n",
       "      <td>92271</td>\n",
       "      <td>22.616636</td>\n",
       "      <td>17.500555</td>\n",
       "      <td>1017.525878</td>\n",
       "      <td>188.983364</td>\n",
       "      <td>3.366359</td>\n",
       "    </tr>\n",
       "  </tbody>\n",
       "</table>\n",
       "<p>27264 rows × 13 columns</p>\n",
       "</div>"
      ],
      "text/plain": [
       "       building_id        meter  month  meter_reading  meter_reading_log  \\\n",
       "0                0  electricity      1       0.238046           0.020342   \n",
       "1                1  electricity      1       0.375049           0.057552   \n",
       "2                2  electricity      1       0.004334           0.002827   \n",
       "3                3  electricity      1       0.000000           0.000000   \n",
       "4                4  electricity      1       0.293036           0.015504   \n",
       "...            ...          ...    ...            ...                ...   \n",
       "27259         1444  electricity      8       5.587117           1.847838   \n",
       "27260         1445  electricity      8       4.368139           1.629809   \n",
       "27261         1446  electricity      8       3.440288           0.964705   \n",
       "27262         1447  electricity      8     180.204745           5.191935   \n",
       "27263         1448  electricity      8       3.301733           1.445406   \n",
       "\n",
       "       site_id                    primary_use  square_feet  air_temperature  \\\n",
       "0            0                      Education         7432        14.830351   \n",
       "1            0                      Education         2720        14.830351   \n",
       "2            0                      Education         5376        14.830351   \n",
       "3            0                      Education        23685        14.830351   \n",
       "4            0                      Education       116607        14.830351   \n",
       "...        ...                            ...          ...              ...   \n",
       "27259       15  Entertainment/public assembly        19619        22.616636   \n",
       "27260       15                      Education         4298        22.616636   \n",
       "27261       15  Entertainment/public assembly        11265        22.616636   \n",
       "27262       15            Lodging/residential        29775        22.616636   \n",
       "27263       15                         Office        92271        22.616636   \n",
       "\n",
       "       dew_temperature  sea_level_pressure  wind_direction  wind_speed  \n",
       "0             9.098083         1017.830990      220.718850    4.124441  \n",
       "1             9.098083         1017.830990      220.718850    4.124441  \n",
       "2             9.098083         1017.830990      220.718850    4.124441  \n",
       "3             9.098083         1017.830990      220.718850    4.124441  \n",
       "4             9.098083         1017.830990      220.718850    4.124441  \n",
       "...                ...                 ...             ...         ...  \n",
       "27259        17.500555         1017.525878      188.983364    3.366359  \n",
       "27260        17.500555         1017.525878      188.983364    3.366359  \n",
       "27261        17.500555         1017.525878      188.983364    3.366359  \n",
       "27262        17.500555         1017.525878      188.983364    3.366359  \n",
       "27263        17.500555         1017.525878      188.983364    3.366359  \n",
       "\n",
       "[27264 rows x 13 columns]"
      ]
     },
     "execution_count": 56,
     "metadata": {},
     "output_type": "execute_result"
    }
   ],
   "source": [
    "merged_df = merged_df.merge(weather_train_df_t, on=['site_id', 'month'])\n",
    "merged_df"
   ]
  },
  {
   "cell_type": "code",
   "execution_count": 57,
   "id": "yellow-summit",
   "metadata": {
    "id": "yellow-summit",
    "outputId": "203f1a0d-09a3-4f7e-d812-6a9839944f07"
   },
   "outputs": [
    {
     "name": "stdout",
     "output_type": "stream",
     "text": [
      "<class 'pandas.core.frame.DataFrame'>\n",
      "Int64Index: 27264 entries, 0 to 27263\n",
      "Data columns (total 13 columns):\n",
      " #   Column              Non-Null Count  Dtype  \n",
      "---  ------              --------------  -----  \n",
      " 0   building_id         27264 non-null  int64  \n",
      " 1   meter               27264 non-null  object \n",
      " 2   month               27264 non-null  int64  \n",
      " 3   meter_reading       27264 non-null  float64\n",
      " 4   meter_reading_log   27264 non-null  float64\n",
      " 5   site_id             27264 non-null  int64  \n",
      " 6   primary_use         27264 non-null  object \n",
      " 7   square_feet         27264 non-null  int64  \n",
      " 8   air_temperature     27264 non-null  float64\n",
      " 9   dew_temperature     27264 non-null  float64\n",
      " 10  sea_level_pressure  27264 non-null  float64\n",
      " 11  wind_direction      27264 non-null  float64\n",
      " 12  wind_speed          27264 non-null  float64\n",
      "dtypes: float64(7), int64(4), object(2)\n",
      "memory usage: 2.9+ MB\n"
     ]
    }
   ],
   "source": [
    "merged_df.info()"
   ]
  },
  {
   "cell_type": "code",
   "execution_count": 58,
   "id": "orange-platform",
   "metadata": {
    "id": "orange-platform",
    "outputId": "b47c08d3-5c4e-4503-a3dd-b9446f3dd16f"
   },
   "outputs": [
    {
     "data": {
      "text/plain": [
       "(27264, 13)"
      ]
     },
     "execution_count": 58,
     "metadata": {},
     "output_type": "execute_result"
    }
   ],
   "source": [
    "merged_df.shape"
   ]
  },
  {
   "cell_type": "code",
   "execution_count": 59,
   "id": "harmful-distinction",
   "metadata": {
    "id": "harmful-distinction",
    "outputId": "b5dc7b47-f820-4776-e7b2-6ba3a868be48"
   },
   "outputs": [
    {
     "data": {
      "text/plain": [
       "building_id           0\n",
       "meter                 0\n",
       "month                 0\n",
       "meter_reading         0\n",
       "meter_reading_log     0\n",
       "site_id               0\n",
       "primary_use           0\n",
       "square_feet           0\n",
       "air_temperature       0\n",
       "dew_temperature       0\n",
       "sea_level_pressure    0\n",
       "wind_direction        0\n",
       "wind_speed            0\n",
       "dtype: int64"
      ]
     },
     "execution_count": 59,
     "metadata": {},
     "output_type": "execute_result"
    }
   ],
   "source": [
    "merged_df.isnull().sum()"
   ]
  },
  {
   "cell_type": "code",
   "execution_count": 60,
   "id": "administrative-dividend",
   "metadata": {
    "id": "administrative-dividend",
    "outputId": "daab8e53-9c42-44d9-d4cb-f2cffbc19bf8"
   },
   "outputs": [
    {
     "data": {
      "text/plain": [
       "array([ 0,  1,  2,  3,  4,  6,  7,  8,  9, 10, 11, 12, 13, 14, 15],\n",
       "      dtype=int64)"
      ]
     },
     "execution_count": 60,
     "metadata": {},
     "output_type": "execute_result"
    }
   ],
   "source": [
    "merged_df['site_id'].unique()"
   ]
  },
  {
   "cell_type": "code",
   "execution_count": 66,
   "id": "logical-hotel",
   "metadata": {
    "id": "logical-hotel",
    "outputId": "518facf9-aa43-47c2-cfe9-213d28871ef0"
   },
   "outputs": [
    {
     "data": {
      "text/plain": [
       "<AxesSubplot:>"
      ]
     },
     "execution_count": 66,
     "metadata": {},
     "output_type": "execute_result"
    },
    {
     "data": {
      "image/png": "[encoded data removed]",
      "text/plain": [
       "<Figure size 792x648 with 2 Axes>"
      ]
     },
     "metadata": {
      "needs_background": "light"
     },
     "output_type": "display_data"
    }
   ],
   "source": [
    "#Check correlation betweeen features\n",
    "corr = merged_df.corr()\n",
    "f, ax = plt.subplots(figsize=(11, 9))\n",
    "sb.heatmap(corr)"
   ]
  },
  {
   "cell_type": "code",
   "execution_count": 67,
   "id": "competitive-branch",
   "metadata": {
    "id": "competitive-branch",
    "outputId": "c89417ba-6449-491a-c57c-f290176cc78a"
   },
   "outputs": [
    {
     "data": {
      "text/plain": [
       "0     10831\n",
       "6      6004\n",
       "4      3035\n",
       "1      2970\n",
       "9      2265\n",
       "3       540\n",
       "7       332\n",
       "8       293\n",
       "2       156\n",
       "11      155\n",
       "15      155\n",
       "5       144\n",
       "12      132\n",
       "13      120\n",
       "14       84\n",
       "10       48\n",
       "Name: primary_use, dtype: int64"
      ]
     },
     "execution_count": 67,
     "metadata": {},
     "output_type": "execute_result"
    }
   ],
   "source": [
    "merged_df['primary_use'].value_counts()"
   ]
  },
  {
   "cell_type": "code",
   "execution_count": 68,
   "id": "fifty-respondent",
   "metadata": {
    "id": "fifty-respondent",
    "outputId": "b2c90eb1-e263-4590-f398-0a55f9175a93"
   },
   "outputs": [
    {
     "data": {
      "text/html": [
       "<div>\n",
       "<style scoped>\n",
       "    .dataframe tbody tr th:only-of-type {\n",
       "        vertical-align: middle;\n",
       "    }\n",
       "\n",
       "    .dataframe tbody tr th {\n",
       "        vertical-align: top;\n",
       "    }\n",
       "\n",
       "    .dataframe thead th {\n",
       "        text-align: right;\n",
       "    }\n",
       "</style>\n",
       "<table border=\"1\" class=\"dataframe\">\n",
       "  <thead>\n",
       "    <tr style=\"text-align: right;\">\n",
       "      <th></th>\n",
       "      <th>mean</th>\n",
       "    </tr>\n",
       "    <tr>\n",
       "      <th>primary_use</th>\n",
       "      <th></th>\n",
       "    </tr>\n",
       "  </thead>\n",
       "  <tbody>\n",
       "    <tr>\n",
       "      <th>0</th>\n",
       "      <td>4697.473747</td>\n",
       "    </tr>\n",
       "    <tr>\n",
       "      <th>1</th>\n",
       "      <td>503.614831</td>\n",
       "    </tr>\n",
       "    <tr>\n",
       "      <th>2</th>\n",
       "      <td>305.248225</td>\n",
       "    </tr>\n",
       "    <tr>\n",
       "      <th>3</th>\n",
       "      <td>746.396167</td>\n",
       "    </tr>\n",
       "    <tr>\n",
       "      <th>4</th>\n",
       "      <td>280.290793</td>\n",
       "    </tr>\n",
       "    <tr>\n",
       "      <th>5</th>\n",
       "      <td>345.870377</td>\n",
       "    </tr>\n",
       "    <tr>\n",
       "      <th>6</th>\n",
       "      <td>530.792629</td>\n",
       "    </tr>\n",
       "    <tr>\n",
       "      <th>7</th>\n",
       "      <td>154.061744</td>\n",
       "    </tr>\n",
       "    <tr>\n",
       "      <th>8</th>\n",
       "      <td>169.008368</td>\n",
       "    </tr>\n",
       "    <tr>\n",
       "      <th>9</th>\n",
       "      <td>291.932117</td>\n",
       "    </tr>\n",
       "    <tr>\n",
       "      <th>10</th>\n",
       "      <td>5.547032</td>\n",
       "    </tr>\n",
       "    <tr>\n",
       "      <th>11</th>\n",
       "      <td>140.281759</td>\n",
       "    </tr>\n",
       "    <tr>\n",
       "      <th>12</th>\n",
       "      <td>4112.777031</td>\n",
       "    </tr>\n",
       "    <tr>\n",
       "      <th>13</th>\n",
       "      <td>135.015121</td>\n",
       "    </tr>\n",
       "    <tr>\n",
       "      <th>14</th>\n",
       "      <td>512.347250</td>\n",
       "    </tr>\n",
       "    <tr>\n",
       "      <th>15</th>\n",
       "      <td>53.908849</td>\n",
       "    </tr>\n",
       "  </tbody>\n",
       "</table>\n",
       "</div>"
      ],
      "text/plain": [
       "                    mean\n",
       "primary_use             \n",
       "0            4697.473747\n",
       "1             503.614831\n",
       "2             305.248225\n",
       "3             746.396167\n",
       "4             280.290793\n",
       "5             345.870377\n",
       "6             530.792629\n",
       "7             154.061744\n",
       "8             169.008368\n",
       "9             291.932117\n",
       "10              5.547032\n",
       "11            140.281759\n",
       "12           4112.777031\n",
       "13            135.015121\n",
       "14            512.347250\n",
       "15             53.908849"
      ]
     },
     "execution_count": 68,
     "metadata": {},
     "output_type": "execute_result"
    }
   ],
   "source": [
    "#Mean Of meter_reading by primary_use\n",
    "merged_df.groupby('primary_use').meter_reading.agg(['mean'])"
   ]
  },
  {
   "cell_type": "code",
   "execution_count": 69,
   "id": "insured-quilt",
   "metadata": {
    "id": "insured-quilt",
    "outputId": "48d312a7-8e7f-4089-ff04-2e789aad6087"
   },
   "outputs": [
    {
     "data": {
      "text/html": [
       "<div>\n",
       "<style scoped>\n",
       "    .dataframe tbody tr th:only-of-type {\n",
       "        vertical-align: middle;\n",
       "    }\n",
       "\n",
       "    .dataframe tbody tr th {\n",
       "        vertical-align: top;\n",
       "    }\n",
       "\n",
       "    .dataframe thead th {\n",
       "        text-align: right;\n",
       "    }\n",
       "</style>\n",
       "<table border=\"1\" class=\"dataframe\">\n",
       "  <thead>\n",
       "    <tr style=\"text-align: right;\">\n",
       "      <th></th>\n",
       "      <th>building_id</th>\n",
       "      <th>meter</th>\n",
       "      <th>month</th>\n",
       "      <th>meter_reading</th>\n",
       "      <th>meter_reading_log</th>\n",
       "      <th>site_id</th>\n",
       "      <th>primary_use</th>\n",
       "      <th>square_feet</th>\n",
       "      <th>air_temperature</th>\n",
       "      <th>dew_temperature</th>\n",
       "      <th>sea_level_pressure</th>\n",
       "      <th>wind_direction</th>\n",
       "      <th>wind_speed</th>\n",
       "    </tr>\n",
       "  </thead>\n",
       "  <tbody>\n",
       "    <tr>\n",
       "      <th>0</th>\n",
       "      <td>0</td>\n",
       "      <td>0</td>\n",
       "      <td>1</td>\n",
       "      <td>0.238046</td>\n",
       "      <td>0.020342</td>\n",
       "      <td>0</td>\n",
       "      <td>0</td>\n",
       "      <td>7432</td>\n",
       "      <td>14.830351</td>\n",
       "      <td>9.098083</td>\n",
       "      <td>1017.830990</td>\n",
       "      <td>220.718850</td>\n",
       "      <td>4.124441</td>\n",
       "    </tr>\n",
       "    <tr>\n",
       "      <th>1</th>\n",
       "      <td>1</td>\n",
       "      <td>0</td>\n",
       "      <td>1</td>\n",
       "      <td>0.375049</td>\n",
       "      <td>0.057552</td>\n",
       "      <td>0</td>\n",
       "      <td>0</td>\n",
       "      <td>2720</td>\n",
       "      <td>14.830351</td>\n",
       "      <td>9.098083</td>\n",
       "      <td>1017.830990</td>\n",
       "      <td>220.718850</td>\n",
       "      <td>4.124441</td>\n",
       "    </tr>\n",
       "    <tr>\n",
       "      <th>2</th>\n",
       "      <td>2</td>\n",
       "      <td>0</td>\n",
       "      <td>1</td>\n",
       "      <td>0.004334</td>\n",
       "      <td>0.002827</td>\n",
       "      <td>0</td>\n",
       "      <td>0</td>\n",
       "      <td>5376</td>\n",
       "      <td>14.830351</td>\n",
       "      <td>9.098083</td>\n",
       "      <td>1017.830990</td>\n",
       "      <td>220.718850</td>\n",
       "      <td>4.124441</td>\n",
       "    </tr>\n",
       "    <tr>\n",
       "      <th>3</th>\n",
       "      <td>3</td>\n",
       "      <td>0</td>\n",
       "      <td>1</td>\n",
       "      <td>0.000000</td>\n",
       "      <td>0.000000</td>\n",
       "      <td>0</td>\n",
       "      <td>0</td>\n",
       "      <td>23685</td>\n",
       "      <td>14.830351</td>\n",
       "      <td>9.098083</td>\n",
       "      <td>1017.830990</td>\n",
       "      <td>220.718850</td>\n",
       "      <td>4.124441</td>\n",
       "    </tr>\n",
       "    <tr>\n",
       "      <th>4</th>\n",
       "      <td>4</td>\n",
       "      <td>0</td>\n",
       "      <td>1</td>\n",
       "      <td>0.293036</td>\n",
       "      <td>0.015504</td>\n",
       "      <td>0</td>\n",
       "      <td>0</td>\n",
       "      <td>116607</td>\n",
       "      <td>14.830351</td>\n",
       "      <td>9.098083</td>\n",
       "      <td>1017.830990</td>\n",
       "      <td>220.718850</td>\n",
       "      <td>4.124441</td>\n",
       "    </tr>\n",
       "    <tr>\n",
       "      <th>...</th>\n",
       "      <td>...</td>\n",
       "      <td>...</td>\n",
       "      <td>...</td>\n",
       "      <td>...</td>\n",
       "      <td>...</td>\n",
       "      <td>...</td>\n",
       "      <td>...</td>\n",
       "      <td>...</td>\n",
       "      <td>...</td>\n",
       "      <td>...</td>\n",
       "      <td>...</td>\n",
       "      <td>...</td>\n",
       "      <td>...</td>\n",
       "    </tr>\n",
       "    <tr>\n",
       "      <th>27259</th>\n",
       "      <td>1444</td>\n",
       "      <td>0</td>\n",
       "      <td>8</td>\n",
       "      <td>5.587117</td>\n",
       "      <td>1.847838</td>\n",
       "      <td>15</td>\n",
       "      <td>1</td>\n",
       "      <td>19619</td>\n",
       "      <td>22.616636</td>\n",
       "      <td>17.500555</td>\n",
       "      <td>1017.525878</td>\n",
       "      <td>188.983364</td>\n",
       "      <td>3.366359</td>\n",
       "    </tr>\n",
       "    <tr>\n",
       "      <th>27260</th>\n",
       "      <td>1445</td>\n",
       "      <td>0</td>\n",
       "      <td>8</td>\n",
       "      <td>4.368139</td>\n",
       "      <td>1.629809</td>\n",
       "      <td>15</td>\n",
       "      <td>0</td>\n",
       "      <td>4298</td>\n",
       "      <td>22.616636</td>\n",
       "      <td>17.500555</td>\n",
       "      <td>1017.525878</td>\n",
       "      <td>188.983364</td>\n",
       "      <td>3.366359</td>\n",
       "    </tr>\n",
       "    <tr>\n",
       "      <th>27261</th>\n",
       "      <td>1446</td>\n",
       "      <td>0</td>\n",
       "      <td>8</td>\n",
       "      <td>3.440288</td>\n",
       "      <td>0.964705</td>\n",
       "      <td>15</td>\n",
       "      <td>1</td>\n",
       "      <td>11265</td>\n",
       "      <td>22.616636</td>\n",
       "      <td>17.500555</td>\n",
       "      <td>1017.525878</td>\n",
       "      <td>188.983364</td>\n",
       "      <td>3.366359</td>\n",
       "    </tr>\n",
       "    <tr>\n",
       "      <th>27262</th>\n",
       "      <td>1447</td>\n",
       "      <td>0</td>\n",
       "      <td>8</td>\n",
       "      <td>180.204745</td>\n",
       "      <td>5.191935</td>\n",
       "      <td>15</td>\n",
       "      <td>4</td>\n",
       "      <td>29775</td>\n",
       "      <td>22.616636</td>\n",
       "      <td>17.500555</td>\n",
       "      <td>1017.525878</td>\n",
       "      <td>188.983364</td>\n",
       "      <td>3.366359</td>\n",
       "    </tr>\n",
       "    <tr>\n",
       "      <th>27263</th>\n",
       "      <td>1448</td>\n",
       "      <td>0</td>\n",
       "      <td>8</td>\n",
       "      <td>3.301733</td>\n",
       "      <td>1.445406</td>\n",
       "      <td>15</td>\n",
       "      <td>6</td>\n",
       "      <td>92271</td>\n",
       "      <td>22.616636</td>\n",
       "      <td>17.500555</td>\n",
       "      <td>1017.525878</td>\n",
       "      <td>188.983364</td>\n",
       "      <td>3.366359</td>\n",
       "    </tr>\n",
       "  </tbody>\n",
       "</table>\n",
       "<p>27264 rows × 13 columns</p>\n",
       "</div>"
      ],
      "text/plain": [
       "       building_id  meter  month  meter_reading  meter_reading_log  site_id  \\\n",
       "0                0      0      1       0.238046           0.020342        0   \n",
       "1                1      0      1       0.375049           0.057552        0   \n",
       "2                2      0      1       0.004334           0.002827        0   \n",
       "3                3      0      1       0.000000           0.000000        0   \n",
       "4                4      0      1       0.293036           0.015504        0   \n",
       "...            ...    ...    ...            ...                ...      ...   \n",
       "27259         1444      0      8       5.587117           1.847838       15   \n",
       "27260         1445      0      8       4.368139           1.629809       15   \n",
       "27261         1446      0      8       3.440288           0.964705       15   \n",
       "27262         1447      0      8     180.204745           5.191935       15   \n",
       "27263         1448      0      8       3.301733           1.445406       15   \n",
       "\n",
       "       primary_use  square_feet  air_temperature  dew_temperature  \\\n",
       "0                0         7432        14.830351         9.098083   \n",
       "1                0         2720        14.830351         9.098083   \n",
       "2                0         5376        14.830351         9.098083   \n",
       "3                0        23685        14.830351         9.098083   \n",
       "4                0       116607        14.830351         9.098083   \n",
       "...            ...          ...              ...              ...   \n",
       "27259            1        19619        22.616636        17.500555   \n",
       "27260            0         4298        22.616636        17.500555   \n",
       "27261            1        11265        22.616636        17.500555   \n",
       "27262            4        29775        22.616636        17.500555   \n",
       "27263            6        92271        22.616636        17.500555   \n",
       "\n",
       "       sea_level_pressure  wind_direction  wind_speed  \n",
       "0             1017.830990      220.718850    4.124441  \n",
       "1             1017.830990      220.718850    4.124441  \n",
       "2             1017.830990      220.718850    4.124441  \n",
       "3             1017.830990      220.718850    4.124441  \n",
       "4             1017.830990      220.718850    4.124441  \n",
       "...                   ...             ...         ...  \n",
       "27259         1017.525878      188.983364    3.366359  \n",
       "27260         1017.525878      188.983364    3.366359  \n",
       "27261         1017.525878      188.983364    3.366359  \n",
       "27262         1017.525878      188.983364    3.366359  \n",
       "27263         1017.525878      188.983364    3.366359  \n",
       "\n",
       "[27264 rows x 13 columns]"
      ]
     },
     "execution_count": 69,
     "metadata": {},
     "output_type": "execute_result"
    }
   ],
   "source": [
    "#encode columns to be able to build models for it\n",
    "encoder = LabelEncoder()\n",
    "merged_df['primary_use'] = encoder.fit_transform(merged_df['primary_use'])\n",
    "merged_df['meter'].replace({\"electricity\":0, \"chilledwater\":1, \"steam\":2, \"hotwater\":3},inplace=True)\n",
    "\n",
    "merged_df"
   ]
  },
  {
   "cell_type": "code",
   "execution_count": 70,
   "id": "liquid-relative",
   "metadata": {
    "id": "liquid-relative"
   },
   "outputs": [],
   "source": [
    "merged_df.to_csv(\"merged_df.csv\", index=False)"
   ]
  },
  {
   "cell_type": "markdown",
   "id": "chicken-puppy",
   "metadata": {
    "id": "chicken-puppy"
   },
   "source": [
    "## Kmeans clustering"
   ]
  },
  {
   "cell_type": "code",
   "execution_count": 71,
   "id": "discrete-hours",
   "metadata": {
    "colab": {
     "base_uri": "https://localhost:8080/"
    },
    "id": "discrete-hours",
    "outputId": "ea71b705-fe14-47f0-941f-c4847584907a"
   },
   "outputs": [
    {
     "name": "stdout",
     "output_type": "stream",
     "text": [
      "Requirement already satisfied: pyspark in c:\\users\\w.i\\anaconda3\\lib\\site-packages (3.4.0)\n",
      "Requirement already satisfied: py4j==0.10.9.7 in c:\\users\\w.i\\anaconda3\\lib\\site-packages (from pyspark) (0.10.9.7)\n",
      "Note: you may need to restart the kernel to use updated packages.\n"
     ]
    }
   ],
   "source": [
    "pip install pyspark"
   ]
  },
  {
   "cell_type": "code",
   "execution_count": 72,
   "id": "saving-authorization",
   "metadata": {},
   "outputs": [],
   "source": [
    "import findspark\n",
    "findspark.init()"
   ]
  },
  {
   "cell_type": "code",
   "execution_count": 73,
   "id": "loaded-tobacco",
   "metadata": {
    "id": "loaded-tobacco"
   },
   "outputs": [],
   "source": [
    "import pyspark\n",
    "from pyspark import SparkContext"
   ]
  },
  {
   "cell_type": "code",
   "execution_count": 74,
   "id": "nearby-jason",
   "metadata": {
    "id": "nearby-jason"
   },
   "outputs": [],
   "source": [
    "from pyspark.sql import SparkSession\n",
    "\n",
    "spark = SparkSession.builder.appName('Clustering using K-Means').getOrCreate()"
   ]
  },
  {
   "cell_type": "code",
   "execution_count": 75,
   "id": "thermal-complaint",
   "metadata": {
    "id": "thermal-complaint"
   },
   "outputs": [],
   "source": [
    "df = spark.read.csv('merged_df.csv', header=True, inferSchema=True)"
   ]
  },
  {
   "cell_type": "code",
   "execution_count": 76,
   "id": "choice-simpson",
   "metadata": {
    "colab": {
     "base_uri": "https://localhost:8080/"
    },
    "id": "choice-simpson",
    "outputId": "9fd68a78-34c1-49a8-e677-f43a172e89a5"
   },
   "outputs": [
    {
     "name": "stdout",
     "output_type": "stream",
     "text": [
      "root\n",
      " |-- building_id: integer (nullable = true)\n",
      " |-- meter: integer (nullable = true)\n",
      " |-- month: integer (nullable = true)\n",
      " |-- meter_reading: double (nullable = true)\n",
      " |-- meter_reading_log: double (nullable = true)\n",
      " |-- site_id: integer (nullable = true)\n",
      " |-- primary_use: integer (nullable = true)\n",
      " |-- square_feet: integer (nullable = true)\n",
      " |-- air_temperature: double (nullable = true)\n",
      " |-- dew_temperature: double (nullable = true)\n",
      " |-- sea_level_pressure: double (nullable = true)\n",
      " |-- wind_direction: double (nullable = true)\n",
      " |-- wind_speed: double (nullable = true)\n",
      "\n"
     ]
    }
   ],
   "source": [
    "df.printSchema()"
   ]
  },
  {
   "cell_type": "code",
   "execution_count": 77,
   "id": "sporting-jacob",
   "metadata": {
    "colab": {
     "base_uri": "https://localhost:8080/"
    },
    "id": "sporting-jacob",
    "outputId": "09a08ba4-97a1-4fe2-cc70-f3c54e58e291"
   },
   "outputs": [
    {
     "data": {
      "text/plain": [
       "['building_id',\n",
       " 'meter',\n",
       " 'month',\n",
       " 'meter_reading',\n",
       " 'meter_reading_log',\n",
       " 'site_id',\n",
       " 'primary_use',\n",
       " 'square_feet',\n",
       " 'air_temperature',\n",
       " 'dew_temperature',\n",
       " 'sea_level_pressure',\n",
       " 'wind_direction',\n",
       " 'wind_speed']"
      ]
     },
     "execution_count": 77,
     "metadata": {},
     "output_type": "execute_result"
    }
   ],
   "source": [
    "df.columns"
   ]
  },
  {
   "cell_type": "code",
   "execution_count": 78,
   "id": "unexpected-corps",
   "metadata": {
    "colab": {
     "base_uri": "https://localhost:8080/"
    },
    "id": "unexpected-corps",
    "outputId": "859b4299-4ea2-4ef9-cb4f-46202b8da27e"
   },
   "outputs": [
    {
     "name": "stdout",
     "output_type": "stream",
     "text": [
      "+-------+--------------------+\n",
      "|site_id|            features|\n",
      "+-------+--------------------+\n",
      "|      0|[0.0,0.2380459074...|\n",
      "|      0|[0.0,0.3750487719...|\n",
      "|      0|[0.0,0.0043336860...|\n",
      "|      0|[0.0,0.0,0.0,0.0,...|\n",
      "|      0|[0.0,0.2930363001...|\n",
      "|      0|[0.0,0.0060296819...|\n",
      "|      0|[0.0,0.0,0.0,4.0,...|\n",
      "|      0|[0.0,0.0,0.0,0.0,...|\n",
      "|      0|[0.0,0.0,0.0,0.0,...|\n",
      "|      0|[0.0,0.0,0.0,6.0,...|\n",
      "|      0|[0.0,0.0,0.0,1.0,...|\n",
      "|      0|[0.0,1.2737830018...|\n",
      "|      0|[0.0,0.8826827225...|\n",
      "|      0|[0.0,0.0,0.0,0.0,...|\n",
      "|      0|[0.0,0.1815319148...|\n",
      "|      0|[0.0,0.0,0.0,6.0,...|\n",
      "|      0|[0.0,4.7784133574...|\n",
      "|      0|[0.0,0.0,0.0,6.0,...|\n",
      "|      0|[0.0,0.0,0.0,0.0,...|\n",
      "|      0|[0.0,0.0,0.0,6.0,...|\n",
      "+-------+--------------------+\n",
      "only showing top 20 rows\n",
      "\n"
     ]
    }
   ],
   "source": [
    "from pyspark.ml.feature import VectorAssembler\n",
    "\n",
    "feature_cols = ['meter',\n",
    " 'meter_reading',\n",
    " 'meter_reading_log',\n",
    " 'primary_use',\n",
    " 'square_feet',\n",
    " 'air_temperature',\n",
    " 'dew_temperature',\n",
    " 'sea_level_pressure',\n",
    " 'wind_direction',\n",
    " 'wind_speed']\n",
    "feature_vector=VectorAssembler(inputCols=feature_cols, outputCol='features')\n",
    "\n",
    "data = feature_vector.transform(df)\n",
    "final_data = feature_vector.transform(df).select('site_id', 'features')\n",
    "final_data.show()"
   ]
  },
  {
   "cell_type": "code",
   "execution_count": 79,
   "id": "corrected-hobby",
   "metadata": {
    "colab": {
     "base_uri": "https://localhost:8080/"
    },
    "id": "corrected-hobby",
    "outputId": "06b07f18-7c72-4c27-a312-46f40e1d405e"
   },
   "outputs": [
    {
     "name": "stdout",
     "output_type": "stream",
     "text": [
      "+-------+--------------------+--------------------+\n",
      "|site_id|            features|           zfeatures|\n",
      "+-------+--------------------+--------------------+\n",
      "|      0|[0.0,0.2380459074...|[0.0,1.8726701341...|\n",
      "|      0|[0.0,0.3750487719...|[0.0,2.9504503626...|\n",
      "|      0|[0.0,0.0043336860...|[0.0,3.4092434331...|\n",
      "|      0|[0.0,0.0,0.0,0.0,...|[0.0,0.0,0.0,0.0,...|\n",
      "|      0|[0.0,0.2930363001...|[0.0,2.3052710016...|\n",
      "|      0|[0.0,0.0060296819...|[0.0,4.7434570415...|\n",
      "|      0|[0.0,0.0,0.0,4.0,...|[0.0,0.0,0.0,1.15...|\n",
      "|      0|[0.0,0.0,0.0,0.0,...|[0.0,0.0,0.0,0.0,...|\n",
      "|      0|[0.0,0.0,0.0,0.0,...|[0.0,0.0,0.0,0.0,...|\n",
      "|      0|[0.0,0.0,0.0,6.0,...|[0.0,0.0,0.0,1.73...|\n",
      "|      0|[0.0,0.0,0.0,1.0,...|[0.0,0.0,0.0,0.28...|\n",
      "|      0|[0.0,1.2737830018...|[0.0,1.0020652781...|\n",
      "|      0|[0.0,0.8826827225...|[0.0,6.9439277067...|\n",
      "|      0|[0.0,0.0,0.0,0.0,...|[0.0,0.0,0.0,0.0,...|\n",
      "|      0|[0.0,0.1815319148...|[0.0,1.4280833433...|\n",
      "|      0|[0.0,0.0,0.0,6.0,...|[0.0,0.0,0.0,1.73...|\n",
      "|      0|[0.0,4.7784133574...|[0.0,3.7591034763...|\n",
      "|      0|[0.0,0.0,0.0,6.0,...|[0.0,0.0,0.0,1.73...|\n",
      "|      0|[0.0,0.0,0.0,0.0,...|[0.0,0.0,0.0,0.0,...|\n",
      "|      0|[0.0,0.0,0.0,6.0,...|[0.0,0.0,0.0,1.73...|\n",
      "+-------+--------------------+--------------------+\n",
      "only showing top 20 rows\n",
      "\n"
     ]
    }
   ],
   "source": [
    "from pyspark.ml.feature import StandardScaler\n",
    "\n",
    "scaler = StandardScaler(inputCol='features',outputCol='zfeatures', withStd=True, withMean=False)\n",
    "\n",
    "scalerModel = scaler.fit(final_data)\n",
    "cluster_input_data=scalerModel.transform(final_data)\n",
    "cluster_input_data.show()"
   ]
  },
  {
   "cell_type": "code",
   "execution_count": 80,
   "id": "adaptive-disclosure",
   "metadata": {
    "id": "adaptive-disclosure"
   },
   "outputs": [],
   "source": [
    "from pyspark.ml.clustering import KMeans\n",
    "from pyspark.ml.evaluation import ClusteringEvaluator"
   ]
  },
  {
   "cell_type": "code",
   "execution_count": 81,
   "id": "innocent-soldier",
   "metadata": {
    "colab": {
     "base_uri": "https://localhost:8080/"
    },
    "id": "innocent-soldier",
    "outputId": "251df8bd-4a4e-48a8-b5cb-536d6a0b9935"
   },
   "outputs": [
    {
     "name": "stdout",
     "output_type": "stream",
     "text": [
      "At k =  2  Silhouette Score:  0.3214409797490168\n",
      "At k =  3  Silhouette Score:  0.2850674973922551\n",
      "At k =  4  Silhouette Score:  0.15110514312386997\n",
      "At k =  5  Silhouette Score:  0.21848447612221364\n",
      "At k =  6  Silhouette Score:  0.21706437244749027\n",
      "At k =  7  Silhouette Score:  0.2459036380952505\n",
      "At k =  8  Silhouette Score:  0.2204834947155503\n",
      "At k =  9  Silhouette Score:  0.25393361242642204\n",
      "At k =  10  Silhouette Score:  0.2564921463468423\n",
      "At k =  11  Silhouette Score:  0.256377550392538\n",
      "At k =  12  Silhouette Score:  0.2443107649178543\n",
      "At k =  13  Silhouette Score:  0.23815495191488562\n",
      "At k =  14  Silhouette Score:  0.2343121940572719\n",
      "At k =  15  Silhouette Score:  0.23902010549717753\n",
      "At k =  16  Silhouette Score:  0.24694042862748516\n",
      "At k =  17  Silhouette Score:  0.24108913739730328\n",
      "At k =  18  Silhouette Score:  0.2569357405593578\n",
      "At k =  19  Silhouette Score:  0.26261293123480456\n",
      "At k =  20  Silhouette Score:  0.25053129409502856\n",
      "At k =  21  Silhouette Score:  0.2471209592674433\n",
      "At k =  22  Silhouette Score:  0.25172908929373683\n",
      "At k =  23  Silhouette Score:  0.253519338517125\n",
      "At k =  24  Silhouette Score:  0.25148066696593463\n",
      "At k =  25  Silhouette Score:  0.2578761590788493\n",
      "done\n"
     ]
    }
   ],
   "source": [
    "silhouette_score=[]\n",
    "evaluator = ClusteringEvaluator(predictionCol='prediction', featuresCol='zfeatures', \\\n",
    "                                metricName='silhouette', distanceMeasure='squaredEuclidean')\n",
    "for i in range(2,26):\n",
    "    KMeans_algo=KMeans(featuresCol='zfeatures', k=i)   \n",
    "    KMeans_fit=KMeans_algo.fit(cluster_input_data)\n",
    "    output=KMeans_fit.transform(cluster_input_data)\n",
    "    score=evaluator.evaluate(output)\n",
    "    silhouette_score.append(score)\n",
    "    \n",
    "    print(\"At k = \", i , \" Silhouette Score: \",score)\n",
    "    \n",
    "print(\"done\")"
   ]
  },
  {
   "cell_type": "code",
   "execution_count": 82,
   "id": "convinced-cincinnati",
   "metadata": {
    "id": "convinced-cincinnati",
    "outputId": "5e610cd8-082c-4f5e-98b5-cd381f8484e8"
   },
   "outputs": [
    {
     "data": {
      "text/plain": [
       "Text(0, 0.5, 'cost')"
      ]
     },
     "execution_count": 82,
     "metadata": {},
     "output_type": "execute_result"
    },
    {
     "data": {
      "image/png": "[encoded data removed]",
      "text/plain": [
       "<Figure size 576x432 with 1 Axes>"
      ]
     },
     "metadata": {
      "needs_background": "light"
     },
     "output_type": "display_data"
    }
   ],
   "source": [
    "#Visualizing the silhouette scores in a plot\n",
    "import matplotlib.pyplot as plt\n",
    "fig, ax = plt.subplots(1,1, figsize =(8,6))\n",
    "ax.plot(range(2,26),silhouette_score)\n",
    "ax.set_xlabel('k')\n",
    "ax.set_ylabel('cost')"
   ]
  },
  {
   "cell_type": "markdown",
   "id": "trying-update",
   "metadata": {
    "id": "trying-update"
   },
   "source": [
    "Th optimal number of clusters is 11"
   ]
  },
  {
   "cell_type": "code",
   "execution_count": 83,
   "id": "exclusive-associate",
   "metadata": {
    "id": "exclusive-associate"
   },
   "outputs": [],
   "source": [
    "k=11\n",
    "kmeans= KMeans(featuresCol='zfeatures', k=k)\n",
    "model = kmeans.fit(cluster_input_data)"
   ]
  },
  {
   "cell_type": "code",
   "execution_count": 84,
   "id": "classical-conditioning",
   "metadata": {
    "colab": {
     "base_uri": "https://localhost:8080/"
    },
    "id": "classical-conditioning",
    "outputId": "a62d38ed-8c70-46f9-dc42-4dfe7f4667e4",
    "scrolled": true
   },
   "outputs": [
    {
     "name": "stdout",
     "output_type": "stream",
     "text": [
      "+-------+--------------------+--------------------+----------+\n",
      "|site_id|            features|           zfeatures|prediction|\n",
      "+-------+--------------------+--------------------+----------+\n",
      "|      0|[0.0,0.2380459074...|[0.0,1.8726701341...|         1|\n",
      "|      0|[0.0,0.3750487719...|[0.0,2.9504503626...|         1|\n",
      "|      0|[0.0,0.0043336860...|[0.0,3.4092434331...|         1|\n",
      "|      0|[0.0,0.0,0.0,0.0,...|[0.0,0.0,0.0,0.0,...|         1|\n",
      "|      0|[0.0,0.2930363001...|[0.0,2.3052710016...|         1|\n",
      "|      0|[0.0,0.0060296819...|[0.0,4.7434570415...|         1|\n",
      "|      0|[0.0,0.0,0.0,4.0,...|[0.0,0.0,0.0,1.15...|         1|\n",
      "|      0|[0.0,0.0,0.0,0.0,...|[0.0,0.0,0.0,0.0,...|         1|\n",
      "|      0|[0.0,0.0,0.0,0.0,...|[0.0,0.0,0.0,0.0,...|         1|\n",
      "|      0|[0.0,0.0,0.0,6.0,...|[0.0,0.0,0.0,1.73...|         1|\n",
      "+-------+--------------------+--------------------+----------+\n",
      "only showing top 10 rows\n",
      "\n"
     ]
    }
   ],
   "source": [
    "clust_output = model.transform(cluster_input_data)\n",
    "clust_output.show(10)"
   ]
  },
  {
   "cell_type": "code",
   "execution_count": 87,
   "id": "typical-bundle",
   "metadata": {
    "colab": {
     "base_uri": "https://localhost:8080/"
    },
    "id": "typical-bundle",
    "outputId": "63b2a2ed-30f5-4a0e-ee9b-d26443365605"
   },
   "outputs": [
    {
     "name": "stdout",
     "output_type": "stream",
     "text": [
      "+----------+-----+\n",
      "|prediction|count|\n",
      "+----------+-----+\n",
      "|         1| 2718|\n",
      "|         6|    4|\n",
      "|         3| 2998|\n",
      "|         5| 3219|\n",
      "|         9| 4104|\n",
      "|         4| 2055|\n",
      "|         8| 2483|\n",
      "|         7| 2491|\n",
      "|        10| 1104|\n",
      "|         2| 1981|\n",
      "|         0| 4107|\n",
      "+----------+-----+\n",
      "\n"
     ]
    }
   ],
   "source": [
    "clust_output.groupby('prediction').count().show()"
   ]
  },
  {
   "cell_type": "code",
   "execution_count": 88,
   "id": "auburn-credit",
   "metadata": {
    "colab": {
     "base_uri": "https://localhost:8080/"
    },
    "id": "auburn-credit",
    "outputId": "e178fd7d-3917-4922-c67a-cf757839418c"
   },
   "outputs": [
    {
     "name": "stdout",
     "output_type": "stream",
     "text": [
      "+-------+--------------------+--------------------+----------+\n",
      "|site_id|            features|           zfeatures|prediction|\n",
      "+-------+--------------------+--------------------+----------+\n",
      "|      0|[0.0,0.2380459074...|[0.0,1.8726701341...|         1|\n",
      "|      0|[0.0,0.3750487719...|[0.0,2.9504503626...|         1|\n",
      "|      0|[0.0,0.0043336860...|[0.0,3.4092434331...|         1|\n",
      "|      0|[0.0,0.0,0.0,0.0,...|[0.0,0.0,0.0,0.0,...|         1|\n",
      "|      0|[0.0,0.2930363001...|[0.0,2.3052710016...|         1|\n",
      "|      0|[0.0,0.0060296819...|[0.0,4.7434570415...|         1|\n",
      "|      0|[0.0,0.0,0.0,4.0,...|[0.0,0.0,0.0,1.15...|         1|\n",
      "|      0|[0.0,0.0,0.0,0.0,...|[0.0,0.0,0.0,0.0,...|         1|\n",
      "|      0|[0.0,0.0,0.0,0.0,...|[0.0,0.0,0.0,0.0,...|         1|\n",
      "|      0|[0.0,0.0,0.0,6.0,...|[0.0,0.0,0.0,1.73...|         1|\n",
      "|      0|[0.0,0.0,0.0,1.0,...|[0.0,0.0,0.0,0.28...|         1|\n",
      "|      0|[0.0,1.2737830018...|[0.0,1.0020652781...|         1|\n",
      "|      0|[0.0,0.8826827225...|[0.0,6.9439277067...|         1|\n",
      "|      0|[0.0,0.0,0.0,0.0,...|[0.0,0.0,0.0,0.0,...|         1|\n",
      "|      0|[0.0,0.1815319148...|[0.0,1.4280833433...|         1|\n",
      "|      0|[0.0,0.0,0.0,6.0,...|[0.0,0.0,0.0,1.73...|         1|\n",
      "|      0|[0.0,4.7784133574...|[0.0,3.7591034763...|         1|\n",
      "|      0|[0.0,0.0,0.0,6.0,...|[0.0,0.0,0.0,1.73...|         1|\n",
      "|      0|[0.0,0.0,0.0,0.0,...|[0.0,0.0,0.0,0.0,...|         1|\n",
      "|      0|[0.0,0.0,0.0,6.0,...|[0.0,0.0,0.0,1.73...|         1|\n",
      "+-------+--------------------+--------------------+----------+\n",
      "only showing top 20 rows\n",
      "\n"
     ]
    }
   ],
   "source": [
    "rows = clust_output.collect()\n",
    "df_pred = spark.createDataFrame(rows)\n",
    "df_pred.show()"
   ]
  },
  {
   "cell_type": "code",
   "execution_count": 89,
   "id": "challenging-banking",
   "metadata": {
    "colab": {
     "base_uri": "https://localhost:8080/"
    },
    "id": "challenging-banking",
    "outputId": "7208fc69-bfb3-4ac8-aa71-613c1b02c365"
   },
   "outputs": [
    {
     "name": "stdout",
     "output_type": "stream",
     "text": [
      "root\n",
      " |-- site_id: long (nullable = true)\n",
      " |-- features: vector (nullable = true)\n",
      " |-- zfeatures: vector (nullable = true)\n",
      " |-- prediction: long (nullable = true)\n",
      "\n"
     ]
    }
   ],
   "source": [
    "df_pred.printSchema()"
   ]
  },
  {
   "cell_type": "code",
   "execution_count": 90,
   "id": "boxed-paradise",
   "metadata": {
    "id": "boxed-paradise"
   },
   "outputs": [],
   "source": [
    "X = df_pred.rdd.map(lambda x:[float(y) for y in x['features']]).toDF(feature_cols)"
   ]
  },
  {
   "cell_type": "code",
   "execution_count": 91,
   "id": "italian-feelings",
   "metadata": {
    "colab": {
     "base_uri": "https://localhost:8080/"
    },
    "id": "italian-feelings",
    "outputId": "ab7a1b26-8471-4d80-8e46-c7d56353925d"
   },
   "outputs": [
    {
     "name": "stdout",
     "output_type": "stream",
     "text": [
      "+-----+--------------------+--------------------+-----------+-----------+-----------------+----------------+------------------+-----------------+----------------+-------+----------+\n",
      "|meter|       meter_reading|   meter_reading_log|primary_use|square_feet|  air_temperature| dew_temperature|sea_level_pressure|   wind_direction|      wind_speed|site_id|prediction|\n",
      "+-----+--------------------+--------------------+-----------+-----------+-----------------+----------------+------------------+-----------------+----------------+-------+----------+\n",
      "|  0.0| 0.23804590747330961|0.020341777673783968|        0.0|     7432.0|14.83035143769968|9.09808306709265|1017.8309904153354|220.7188498402556|4.12444089456869|      0|         1|\n",
      "|  0.0|  0.3750487719298246|0.057552310581881094|        0.0|     2720.0|14.83035143769968|9.09808306709265|1017.8309904153354|220.7188498402556|4.12444089456869|      0|         1|\n",
      "|  0.0|  0.0043336860670194|0.002826714587763...|        0.0|     5376.0|14.83035143769968|9.09808306709265|1017.8309904153354|220.7188498402556|4.12444089456869|      0|         1|\n",
      "|  0.0|                 0.0|                 0.0|        0.0|    23685.0|14.83035143769968|9.09808306709265|1017.8309904153354|220.7188498402556|4.12444089456869|      0|         1|\n",
      "|  0.0|  0.2930363001745201|0.015503769482135842|        0.0|   116607.0|14.83035143769968|9.09808306709265|1017.8309904153354|220.7188498402556|4.12444089456869|      0|         1|\n",
      "|  0.0|0.006029681978798586|0.003401964355014...|        0.0|     8000.0|14.83035143769968|9.09808306709265|1017.8309904153354|220.7188498402556|4.12444089456869|      0|         1|\n",
      "|  0.0|                 0.0|                 0.0|        4.0|    27926.0|14.83035143769968|9.09808306709265|1017.8309904153354|220.7188498402556|4.12444089456869|      0|         1|\n",
      "|  0.0|                 0.0|                 0.0|        0.0|   121074.0|14.83035143769968|9.09808306709265|1017.8309904153354|220.7188498402556|4.12444089456869|      0|         1|\n",
      "|  0.0|                 0.0|                 0.0|        0.0|    60809.0|14.83035143769968|9.09808306709265|1017.8309904153354|220.7188498402556|4.12444089456869|      0|         1|\n",
      "|  0.0|                 0.0|                 0.0|        6.0|    27000.0|14.83035143769968|9.09808306709265|1017.8309904153354|220.7188498402556|4.12444089456869|      0|         1|\n",
      "|  0.0|                 0.0|                 0.0|        1.0|   370773.0|14.83035143769968|9.09808306709265|1017.8309904153354|220.7188498402556|4.12444089456869|      0|         1|\n",
      "|  0.0|  1.2737830018083183| 0.05179606872298952|        0.0|    49073.0|14.83035143769968|9.09808306709265|1017.8309904153354|220.7188498402556|4.12444089456869|      0|         1|\n",
      "|  0.0|   0.882682722513089| 0.05235190489760043|        4.0|    37100.0|14.83035143769968|9.09808306709265|1017.8309904153354|220.7188498402556|4.12444089456869|      0|         1|\n",
      "|  0.0|                 0.0|                 0.0|        0.0|    99380.0|14.83035143769968|9.09808306709265|1017.8309904153354|220.7188498402556|4.12444089456869|      0|         1|\n",
      "|  0.0| 0.18153191489361703|0.008224202502168246|        0.0|    86250.0|14.83035143769968|9.09808306709265|1017.8309904153354|220.7188498402556|4.12444089456869|      0|         1|\n",
      "|  0.0|                 0.0|                 0.0|        6.0|    83957.0|14.83035143769968|9.09808306709265|1017.8309904153354|220.7188498402556|4.12444089456869|      0|         1|\n",
      "|  0.0|   4.778413357400722| 0.08381634077227032|        0.0|    54644.0|14.83035143769968|9.09808306709265|1017.8309904153354|220.7188498402556|4.12444089456869|      0|         1|\n",
      "|  0.0|                 0.0|                 0.0|        6.0|    15250.0|14.83035143769968|9.09808306709265|1017.8309904153354|220.7188498402556|4.12444089456869|      0|         1|\n",
      "|  0.0|                 0.0|                 0.0|        0.0|   111891.0|14.83035143769968|9.09808306709265|1017.8309904153354|220.7188498402556|4.12444089456869|      0|         1|\n",
      "|  0.0|                 0.0|                 0.0|        6.0|    18717.0|14.83035143769968|9.09808306709265|1017.8309904153354|220.7188498402556|4.12444089456869|      0|         1|\n",
      "+-----+--------------------+--------------------+-----------+-----------+-----------------+----------------+------------------+-----------------+----------------+-------+----------+\n",
      "only showing top 20 rows\n",
      "\n"
     ]
    }
   ],
   "source": [
    "from pyspark.sql.functions import monotonically_increasing_id, row_number\n",
    "from pyspark.sql.window import Window\n",
    "\n",
    "df_pred = df_pred.drop(\"features\", \"zfeatures\")\n",
    "df_pred = df_pred.withColumn('row_index', row_number().over(Window.orderBy(monotonically_increasing_id())))\n",
    "X = X.withColumn('row_index', row_number().over(Window.orderBy(monotonically_increasing_id())))\n",
    "\n",
    "final_pred_df = X.join(df_pred, on=[\"row_index\"]).drop(\"row_index\")\n",
    "final_pred_df.show()"
   ]
  },
  {
   "cell_type": "markdown",
   "id": "leading-worthy",
   "metadata": {
    "id": "leading-worthy"
   },
   "source": [
    "## SparkML preprocessing"
   ]
  },
  {
   "cell_type": "code",
   "execution_count": 92,
   "id": "trained-wrist",
   "metadata": {
    "id": "trained-wrist"
   },
   "outputs": [],
   "source": [
    "final_pred_df = final_pred_df.drop(\"meter_reading\")"
   ]
  },
  {
   "cell_type": "code",
   "execution_count": 93,
   "id": "urban-fleece",
   "metadata": {
    "colab": {
     "base_uri": "https://localhost:8080/"
    },
    "id": "urban-fleece",
    "outputId": "fe5568f7-6c3c-42e9-d91c-0d332c622d5b"
   },
   "outputs": [
    {
     "name": "stdout",
     "output_type": "stream",
     "text": [
      "+--------------------+--------------------+----------+\n",
      "|   meter_reading_log|            features|prediction|\n",
      "+--------------------+--------------------+----------+\n",
      "|0.020341777673783968|[0.0,0.0,0.0,7432...|         1|\n",
      "|0.057552310581881094|[0.0,0.0,0.0,2720...|         1|\n",
      "|0.002826714587763...|[0.0,0.0,0.0,5376...|         1|\n",
      "|                 0.0|[0.0,0.0,0.0,2368...|         1|\n",
      "|0.015503769482135842|[0.0,0.0,0.0,1166...|         1|\n",
      "|0.003401964355014...|[0.0,0.0,0.0,8000...|         1|\n",
      "|                 0.0|[0.0,0.0,4.0,2792...|         1|\n",
      "|                 0.0|[0.0,0.0,0.0,1210...|         1|\n",
      "|                 0.0|[0.0,0.0,0.0,6080...|         1|\n",
      "|                 0.0|[0.0,0.0,6.0,2700...|         1|\n",
      "|                 0.0|[0.0,0.0,1.0,3707...|         1|\n",
      "| 0.05179606872298952|[0.0,0.0,0.0,4907...|         1|\n",
      "| 0.05235190489760043|[0.0,0.0,4.0,3710...|         1|\n",
      "|                 0.0|[0.0,0.0,0.0,9938...|         1|\n",
      "|0.008224202502168246|[0.0,0.0,0.0,8625...|         1|\n",
      "|                 0.0|[0.0,0.0,6.0,8395...|         1|\n",
      "| 0.08381634077227032|[0.0,0.0,0.0,5464...|         1|\n",
      "|                 0.0|[0.0,0.0,6.0,1525...|         1|\n",
      "|                 0.0|[0.0,0.0,0.0,1118...|         1|\n",
      "|                 0.0|[0.0,0.0,6.0,1871...|         1|\n",
      "+--------------------+--------------------+----------+\n",
      "only showing top 20 rows\n",
      "\n"
     ]
    }
   ],
   "source": [
    "feature_cols = ['meter',\n",
    " 'site_id',\n",
    " 'primary_use',\n",
    " 'square_feet',\n",
    " 'air_temperature',\n",
    " 'dew_temperature',\n",
    " 'sea_level_pressure',\n",
    " 'wind_direction',\n",
    " 'wind_speed']\n",
    "\n",
    "feature_vector=VectorAssembler(inputCols=feature_cols, outputCol='features')\n",
    "\n",
    "models_data = feature_vector.transform(final_pred_df).select('meter_reading_log', 'features', 'prediction')\n",
    "models_data.show()"
   ]
  },
  {
   "cell_type": "code",
   "execution_count": 94,
   "id": "dress-focus",
   "metadata": {
    "colab": {
     "base_uri": "https://localhost:8080/"
    },
    "id": "dress-focus",
    "outputId": "e6a8241c-9098-4386-aa61-d4312be492b1"
   },
   "outputs": [
    {
     "name": "stdout",
     "output_type": "stream",
     "text": [
      "+--------------------+--------------------+----------+\n",
      "|   meter_reading_log|            features|prediction|\n",
      "+--------------------+--------------------+----------+\n",
      "|0.020341777673783968|[0.0,0.0,0.0,7432...|         1|\n",
      "|0.057552310581881094|[0.0,0.0,0.0,2720...|         1|\n",
      "|0.002826714587763...|[0.0,0.0,0.0,5376...|         1|\n",
      "|                 0.0|[0.0,0.0,0.0,2368...|         1|\n",
      "|0.015503769482135842|[0.0,0.0,0.0,1166...|         1|\n",
      "|0.003401964355014...|[0.0,0.0,0.0,8000...|         1|\n",
      "|                 0.0|[0.0,0.0,4.0,2792...|         1|\n",
      "|                 0.0|[0.0,0.0,0.0,1210...|         1|\n",
      "|                 0.0|[0.0,0.0,0.0,6080...|         1|\n",
      "|                 0.0|[0.0,0.0,6.0,2700...|         1|\n",
      "|                 0.0|[0.0,0.0,1.0,3707...|         1|\n",
      "| 0.05179606872298952|[0.0,0.0,0.0,4907...|         1|\n",
      "| 0.05235190489760043|[0.0,0.0,4.0,3710...|         1|\n",
      "|                 0.0|[0.0,0.0,0.0,9938...|         1|\n",
      "|0.008224202502168246|[0.0,0.0,0.0,8625...|         1|\n",
      "|                 0.0|[0.0,0.0,6.0,8395...|         1|\n",
      "| 0.08381634077227032|[0.0,0.0,0.0,5464...|         1|\n",
      "|                 0.0|[0.0,0.0,6.0,1525...|         1|\n",
      "|                 0.0|[0.0,0.0,0.0,1118...|         1|\n",
      "|                 0.0|[0.0,0.0,6.0,1871...|         1|\n",
      "+--------------------+--------------------+----------+\n",
      "only showing top 20 rows\n",
      "\n"
     ]
    }
   ],
   "source": [
    "models_data_clusers = models_data.filter((models_data.prediction == 2) | (models_data.prediction == 5) | (models_data.prediction == 3) | (models_data.prediction == 1) | (models_data.prediction == 10) )\n",
    "models_data_clusers.show()"
   ]
  },
  {
   "cell_type": "code",
   "execution_count": 95,
   "id": "synthetic-habitat",
   "metadata": {
    "colab": {
     "base_uri": "https://localhost:8080/"
    },
    "id": "synthetic-habitat",
    "outputId": "d8600733-4538-4cab-a972-025f4ea3f5b2"
   },
   "outputs": [
    {
     "data": {
      "text/plain": [
       "12020"
      ]
     },
     "execution_count": 95,
     "metadata": {},
     "output_type": "execute_result"
    }
   ],
   "source": [
    "models_data_clusers.count()"
   ]
  },
  {
   "cell_type": "code",
   "execution_count": 97,
   "id": "seasonal-sydney",
   "metadata": {
    "id": "seasonal-sydney"
   },
   "outputs": [],
   "source": [
    "train, test = models_data_clusers.drop('prediction').randomSplit(weights=[0.8,0.2], seed=200)"
   ]
  },
  {
   "cell_type": "markdown",
   "id": "acoustic-robin",
   "metadata": {
    "id": "acoustic-robin"
   },
   "source": [
    "## Gradient-boosted tree regression"
   ]
  },
  {
   "cell_type": "code",
   "execution_count": 98,
   "id": "pressing-merchandise",
   "metadata": {
    "colab": {
     "base_uri": "https://localhost:8080/"
    },
    "id": "pressing-merchandise",
    "outputId": "5f1b9f0e-bf51-402a-b9ae-903a83a07779"
   },
   "outputs": [
    {
     "name": "stdout",
     "output_type": "stream",
     "text": [
      "+-------------------+-----------------+--------------------+\n",
      "|         prediction|meter_reading_log|            features|\n",
      "+-------------------+-----------------+--------------------+\n",
      "| 1.7990811905407487|              0.0|[0.0,0.0,0.0,7432...|\n",
      "|0.02914316421639348|              0.0|[0.0,0.0,0.0,8157...|\n",
      "|0.18166336232085648|              0.0|[0.0,0.0,0.0,1055...|\n",
      "|0.18166336232085648|              0.0|[0.0,0.0,0.0,1118...|\n",
      "|0.18166336232085648|              0.0|[0.0,0.0,0.0,1210...|\n",
      "+-------------------+-----------------+--------------------+\n",
      "only showing top 5 rows\n",
      "\n"
     ]
    }
   ],
   "source": [
    "from pyspark.ml.regression import GBTRegressor\n",
    "gbt = GBTRegressor(featuresCol = 'features', labelCol = 'meter_reading_log', maxIter=10)\n",
    "gbt_model = gbt.fit(train)\n",
    "gbt_predictions = gbt_model.transform(test)\n",
    "gbt_predictions.select('prediction', 'meter_reading_log', 'features').show(5)"
   ]
  },
  {
   "cell_type": "code",
   "execution_count": 99,
   "id": "integrated-insert",
   "metadata": {
    "colab": {
     "base_uri": "https://localhost:8080/"
    },
    "id": "integrated-insert",
    "outputId": "aa1e5a35-eca0-4478-fea8-835bcb935586"
   },
   "outputs": [
    {
     "name": "stdout",
     "output_type": "stream",
     "text": [
      "Root Mean Squared Error (RMSE) on test data = 1.20376\n"
     ]
    }
   ],
   "source": [
    "from pyspark.ml.evaluation import RegressionEvaluator\n",
    "gbt_evaluator = RegressionEvaluator(labelCol=\"meter_reading_log\", predictionCol=\"prediction\", metricName=\"rmse\")\n",
    "rmse = gbt_evaluator.evaluate(gbt_predictions)\n",
    "print(\"Root Mean Squared Error (RMSE) on test data = %g\" % rmse)"
   ]
  },
  {
   "cell_type": "markdown",
   "id": "pacific-stationery",
   "metadata": {
    "id": "pacific-stationery"
   },
   "source": [
    "## Multiple Linear Regression (MLR)"
   ]
  },
  {
   "cell_type": "code",
   "execution_count": 100,
   "id": "efficient-survey",
   "metadata": {},
   "outputs": [
    {
     "name": "stdout",
     "output_type": "stream",
     "text": [
      "Coefficients: [0.0,0.0,0.0,4.096959533788507e-06,0.007466099118535481,0.0,0.0,0.0,0.0]\n",
      "Intercept: 3.4409809634362665\n"
     ]
    }
   ],
   "source": [
    "from pyspark.ml.regression import LinearRegression\n",
    "\n",
    "lr = LinearRegression(featuresCol = 'features', labelCol='meter_reading_log', regParam=0.3, elasticNetParam=0.8)\n",
    "\n",
    "lr_model = lr.fit(train)\n",
    "print(\"Coefficients: \" + str(lr_model.coefficients))\n",
    "print(\"Intercept: \" + str(lr_model.intercept))"
   ]
  },
  {
   "cell_type": "code",
   "execution_count": 101,
   "id": "narrative-toddler",
   "metadata": {},
   "outputs": [
    {
     "name": "stdout",
     "output_type": "stream",
     "text": [
      "RMSE: 1.676094\n",
      "r2: 0.207569\n"
     ]
    }
   ],
   "source": [
    "trainingSummary = lr_model.summary\n",
    "print(\"RMSE: %f\" % trainingSummary.rootMeanSquaredError)\n",
    "print(\"r2: %f\" % trainingSummary.r2)"
   ]
  },
  {
   "cell_type": "code",
   "execution_count": 102,
   "id": "cloudy-fundamental",
   "metadata": {
    "id": "cloudy-fundamental",
    "outputId": "31d5a095-8c30-44fb-a797-2df091c07a49"
   },
   "outputs": [
    {
     "name": "stdout",
     "output_type": "stream",
     "text": [
      "+-------------------+\n",
      "|          residuals|\n",
      "+-------------------+\n",
      "| -3.577530713169246|\n",
      "|-3.5849339190468017|\n",
      "|-3.6247420170519007|\n",
      "| -3.593357267848271|\n",
      "|-3.5964937988562236|\n",
      "| -3.607696626216531|\n",
      "|-3.6487423237906285|\n",
      "|-3.6599451511509358|\n",
      "|-3.6997532491560343|\n",
      "| -3.800837849522993|\n",
      "|   -3.8120406768833|\n",
      "|-3.8518487748883987|\n",
      "| -3.805324020212491|\n",
      "|-3.8165268475727987|\n",
      "|-3.8563349455778972|\n",
      "| -3.883321935816757|\n",
      "|-3.8945247631770643|\n",
      "| -3.934332861182163|\n",
      "|-3.8859194081611785|\n",
      "| -3.936930333526585|\n",
      "+-------------------+\n",
      "only showing top 20 rows\n",
      "\n"
     ]
    }
   ],
   "source": [
    "trainingSummary.residuals.show()"
   ]
  },
  {
   "cell_type": "code",
   "execution_count": 103,
   "id": "shaped-donna",
   "metadata": {
    "id": "shaped-donna",
    "outputId": "2a19f3b2-f4dd-40b1-c680-467ee9e14537"
   },
   "outputs": [
    {
     "name": "stdout",
     "output_type": "stream",
     "text": [
      "+------------------+--------------------+--------------------+\n",
      "|        prediction|   meter_reading_log|            features|\n",
      "+------------------+--------------------+--------------------+\n",
      "| 3.764902866424482|6.679274970334063E-5|[1.0,10.0,0.0,673...|\n",
      "|  4.97151384670671|3.124909243876173E-4|[1.0,7.0,0.0,3875...|\n",
      "| 4.014688586303081|0.001963689055481...|[0.0,0.0,0.0,1102...|\n",
      "| 3.657376836360032|0.002001303513951826|[1.0,2.0,0.0,4314...|\n",
      "|3.6475047242216294|0.002217101274511...|[0.0,0.0,0.0,1093...|\n",
      "| 3.579291371351858|0.003577218476196025|[1.0,6.0,0.0,3053...|\n",
      "| 3.616274625063367|0.003630742711091...|[1.0,6.0,0.0,3955...|\n",
      "|3.5917635505896275|0.004383322379816899|[0.0,0.0,6.0,7043...|\n",
      "| 3.699886866987059|0.004430630825034128|[2.0,6.0,0.0,5365...|\n",
      "| 3.672666667844568|0.004430630825034128|[2.0,6.0,4.0,4700...|\n",
      "|3.5663278858089384|0.005483379224406349|[0.0,0.0,0.0,3569...|\n",
      "|3.7134448811397145|0.006975613736425143|[0.0,1.0,0.0,3220...|\n",
      "| 4.079750660664247| 0.00903853647417496|[0.0,0.0,0.0,1288...|\n",
      "|3.6173388111743447|0.009243225804079817|[0.0,0.0,0.0,3569...|\n",
      "| 3.913502337078792| 0.01135832154300148|[1.0,6.0,4.0,1057...|\n",
      "|3.7276513716705484|0.012551231936409196|[1.0,13.0,1.0,572...|\n",
      "| 3.971547578933752|0.013477058370592307|[1.0,6.0,4.0,1057...|\n",
      "| 4.029439997589324|0.015503769482135842|[0.0,0.0,0.0,1166...|\n",
      "|3.7780522771124545| 0.02728264369333291|[1.0,6.0,1.0,5856...|\n",
      "|  4.08045092295473| 0.03183295895024384|[0.0,0.0,0.0,1166...|\n",
      "+------------------+--------------------+--------------------+\n",
      "only showing top 20 rows\n",
      "\n"
     ]
    }
   ],
   "source": [
    "lr_predictions = lr_model.transform(test)\n",
    "lr_predictions.select(\"prediction\",\"meter_reading_log\",\"features\").filter(lr_predictions.meter_reading_log != 0).show()"
   ]
  },
  {
   "cell_type": "code",
   "execution_count": 104,
   "id": "pediatric-evanescence",
   "metadata": {},
   "outputs": [
    {
     "name": "stdout",
     "output_type": "stream",
     "text": [
      "R Squared (R2) on test data = 0.222815\n"
     ]
    }
   ],
   "source": [
    "from pyspark.ml.evaluation import RegressionEvaluator\n",
    "lr_evaluator = RegressionEvaluator(predictionCol=\"prediction\", \n",
    "                 labelCol=\"meter_reading_log\",metricName=\"r2\")\n",
    "print(\"R Squared (R2) on test data = %g\" % lr_evaluator.evaluate(lr_predictions))"
   ]
  },
  {
   "cell_type": "markdown",
   "id": "comprehensive-shopping",
   "metadata": {
    "id": "comprehensive-shopping"
   },
   "source": [
    "## Decision tree regression"
   ]
  },
  {
   "cell_type": "code",
   "execution_count": 105,
   "id": "provincial-copyright",
   "metadata": {
    "colab": {
     "base_uri": "https://localhost:8080/"
    },
    "id": "provincial-copyright",
    "outputId": "a12a0f0c-5ecd-4b6d-8700-57a0c2078509"
   },
   "outputs": [],
   "source": [
    "from pyspark.ml.regression import DecisionTreeRegressor\n",
    "dt = DecisionTreeRegressor(featuresCol ='features', labelCol = 'meter_reading_log')\n",
    "dt_model = dt.fit(train)"
   ]
  },
  {
   "cell_type": "code",
   "execution_count": 106,
   "id": "thermal-intake",
   "metadata": {},
   "outputs": [
    {
     "name": "stdout",
     "output_type": "stream",
     "text": [
      "+--------------------+--------------------+--------------------+\n",
      "|          prediction|   meter_reading_log|            features|\n",
      "+--------------------+--------------------+--------------------+\n",
      "|  1.8256741477105678|6.679274970334063E-5|[1.0,10.0,0.0,673...|\n",
      "|  6.0719977598255745|3.124909243876173E-4|[1.0,7.0,0.0,3875...|\n",
      "| 0.02676660236476408|0.001963689055481...|[0.0,0.0,0.0,1102...|\n",
      "|  1.6898924152521901|0.002001303513951826|[1.0,2.0,0.0,4314...|\n",
      "|   2.868174282143816|0.002217101274511...|[0.0,0.0,0.0,1093...|\n",
      "|  1.8256741477105678|0.003577218476196025|[1.0,6.0,0.0,3053...|\n",
      "|  1.8256741477105678|0.003630742711091...|[1.0,6.0,0.0,3955...|\n",
      "|8.165322555904403E-4|0.004383322379816899|[0.0,0.0,6.0,7043...|\n",
      "|  1.8256741477105678|0.004430630825034128|[2.0,6.0,0.0,5365...|\n",
      "|  1.8256741477105678|0.004430630825034128|[2.0,6.0,4.0,4700...|\n",
      "|  1.6898924152521901|0.005483379224406349|[0.0,0.0,0.0,3569...|\n",
      "|   3.751533033237603|0.006975613736425143|[0.0,1.0,0.0,3220...|\n",
      "|0.040039986150664474| 0.00903853647417496|[0.0,0.0,0.0,1288...|\n",
      "|  1.6898924152521901|0.009243225804079817|[0.0,0.0,0.0,3569...|\n",
      "|  1.8256741477105678| 0.01135832154300148|[1.0,6.0,4.0,1057...|\n",
      "|  1.8256741477105678|0.012551231936409196|[1.0,13.0,1.0,572...|\n",
      "|   3.918563891293241|0.013477058370592307|[1.0,6.0,4.0,1057...|\n",
      "| 0.02676660236476408|0.015503769482135842|[0.0,0.0,0.0,1166...|\n",
      "|   3.918563891293241| 0.02728264369333291|[1.0,6.0,1.0,5856...|\n",
      "| 0.02676660236476408| 0.03183295895024384|[0.0,0.0,0.0,1166...|\n",
      "+--------------------+--------------------+--------------------+\n",
      "only showing top 20 rows\n",
      "\n"
     ]
    }
   ],
   "source": [
    "dt_predictions = dt_model.transform(test)\n",
    "dt_predictions.select(\"prediction\",\"meter_reading_log\",\"features\").filter(lr_predictions.meter_reading_log != 0).show()"
   ]
  },
  {
   "cell_type": "code",
   "execution_count": 107,
   "id": "explicit-irrigation",
   "metadata": {},
   "outputs": [
    {
     "name": "stdout",
     "output_type": "stream",
     "text": [
      "Root Mean Squared Error (RMSE) on test data = 1.28935\n"
     ]
    }
   ],
   "source": [
    "dt_evaluator = RegressionEvaluator(\n",
    "    labelCol=\"meter_reading_log\", predictionCol=\"prediction\", metricName=\"rmse\")\n",
    "rmse = dt_evaluator.evaluate(dt_predictions)\n",
    "print(\"Root Mean Squared Error (RMSE) on test data = %g\" % rmse)"
   ]
  },
  {
   "cell_type": "code",
   "execution_count": 108,
   "id": "early-drive",
   "metadata": {
    "colab": {
     "base_uri": "https://localhost:8080/"
    },
    "id": "early-drive",
    "outputId": "91519bd8-0466-4fba-9f19-86ef1cba8651"
   },
   "outputs": [
    {
     "data": {
      "text/plain": [
       "SparseVector(9, {0: 0.1131, 1: 0.0773, 2: 0.019, 3: 0.5491, 4: 0.1836, 5: 0.0046, 6: 0.0075, 7: 0.0022, 8: 0.0436})"
      ]
     },
     "execution_count": 108,
     "metadata": {},
     "output_type": "execute_result"
    }
   ],
   "source": [
    "dt_model.featureImportances"
   ]
  },
  {
   "cell_type": "code",
   "execution_count": 109,
   "id": "roman-receptor",
   "metadata": {
    "colab": {
     "base_uri": "https://localhost:8080/"
    },
    "id": "roman-receptor",
    "outputId": "a1538abb-36d8-40d5-bcd7-ecef48255ff2"
   },
   "outputs": [
    {
     "data": {
      "text/plain": [
       "[Row(meter_reading_log=0.0, features=DenseVector([0.0, 0.0, 0.0, 3569.0, 16.3308, 8.8386, 1019.9609, 215.6494, 4.4739]))]"
      ]
     },
     "execution_count": 109,
     "metadata": {},
     "output_type": "execute_result"
    }
   ],
   "source": [
    "train.take(1)"
   ]
  },
  {
   "cell_type": "code",
   "execution_count": 110,
   "id": "B4GY5V8mA_zv",
   "metadata": {
    "colab": {
     "base_uri": "https://localhost:8080/"
    },
    "id": "B4GY5V8mA_zv",
    "outputId": "a8b02f03-e1b1-41a8-ad65-eb72ed0c6e14"
   },
   "outputs": [
    {
     "data": {
      "text/plain": [
       "[Row(meter_reading_log=0.0, features=DenseVector([0.0, 0.0, 0.0, 7432.0, 21.6627, 14.5272, 1018.4873, 192.1407, 4.0359]))]"
      ]
     },
     "execution_count": 110,
     "metadata": {},
     "output_type": "execute_result"
    }
   ],
   "source": [
    "test.take(1)"
   ]
  },
  {
   "cell_type": "code",
   "execution_count": 111,
   "id": "f4396f44",
   "metadata": {},
   "outputs": [
    {
     "name": "stdout",
     "output_type": "stream",
     "text": [
      "R Squared (R2) on test data = 0.273015\n"
     ]
    }
   ],
   "source": [
    "from pyspark.ml.regression import GeneralizedLinearRegression\n",
    "from pyspark.ml.evaluation import RegressionEvaluator\n",
    "\n",
    "br = GeneralizedLinearRegression(family=\"gaussian\", link=\"identity\", regParam=0.3, labelCol='meter_reading_log', featuresCol=\"features\")\n",
    "br_model = br.fit(train)\n",
    "predictions = br_model.transform(test)\n",
    "\n",
    "br_evaluator = RegressionEvaluator(labelCol='meter_reading_log', predictionCol='prediction', metricName='r2')\n",
    "r2 = br_evaluator.evaluate(predictions)\n",
    "print(\"R Squared (R2) on test data = %g\" % r2)"
   ]
  },
  {
   "cell_type": "markdown",
   "id": "b8a7e854",
   "metadata": {},
   "source": [
    "## Random Forest Regression\n"
   ]
  },
  {
   "cell_type": "code",
   "execution_count": 113,
   "id": "fee869fc",
   "metadata": {},
   "outputs": [],
   "source": [
    "from pyspark.ml.regression import RandomForestRegressor\n",
    "rf = RandomForestRegressor(featuresCol=\"features\",labelCol='meter_reading_log')\n",
    "rf_model = rf.fit(train)"
   ]
  },
  {
   "cell_type": "code",
   "execution_count": 114,
   "id": "a6505f77",
   "metadata": {},
   "outputs": [
    {
     "name": "stdout",
     "output_type": "stream",
     "text": [
      "+------------------+-----------------+--------------------+\n",
      "|        prediction|meter_reading_log|            features|\n",
      "+------------------+-----------------+--------------------+\n",
      "|1.2280928848293875|              0.0|[0.0,0.0,0.0,7432...|\n",
      "|0.9624380956661319|              0.0|[0.0,0.0,0.0,8157...|\n",
      "|  1.09087326786909|              0.0|[0.0,0.0,0.0,1055...|\n",
      "|  1.09087326786909|              0.0|[0.0,0.0,0.0,1118...|\n",
      "|  1.09087326786909|              0.0|[0.0,0.0,0.0,1210...|\n",
      "+------------------+-----------------+--------------------+\n",
      "only showing top 5 rows\n",
      "\n"
     ]
    }
   ],
   "source": [
    "rf_predictions = rf_model.transform(test)\n",
    "rf_predictions.select('prediction', 'meter_reading_log', 'features').show(5)"
   ]
  },
  {
   "cell_type": "code",
   "execution_count": 115,
   "id": "0b2c0e49",
   "metadata": {},
   "outputs": [
    {
     "name": "stdout",
     "output_type": "stream",
     "text": [
      "Root Mean Squared Error (RMSE) on test data = 1.31473\n"
     ]
    }
   ],
   "source": [
    "from pyspark.ml.evaluation import RegressionEvaluator\n",
    "rf_evaluator = RegressionEvaluator(labelCol=\"meter_reading_log\", predictionCol=\"prediction\", metricName=\"rmse\")\n",
    "rmse = rf_evaluator.evaluate(rf_predictions)\n",
    "print(\"Root Mean Squared Error (RMSE) on test data = %g\" % rmse)"
   ]
  },
  {
   "cell_type": "markdown",
   "id": "prospective-contemporary",
   "metadata": {
    "id": "prospective-contemporary"
   },
   "source": [
    "## Results"
   ]
  },
  {
   "cell_type": "markdown",
   "id": "informal-hopkins",
   "metadata": {},
   "source": [
    "| ML Method| Root Mean Squared Error (RMSE) |\n",
    "| ---                 | ---                |\n",
    "|    Gradient-boosted tree regression                 |      1.09844              |\n",
    "| Multiple Linear regression                |      1.660778              | \n",
    "|          Decision tree regression           |          1.20964          |\n",
    "|Random Forest Regression             | 1.31473   |"
   ]
  },
  {
   "cell_type": "markdown",
   "id": "critical-category",
   "metadata": {
    "id": "critical-category"
   },
   "source": [
    "The best model out of the three is the Gradient Boosted Tree model. On the other hand, the worst model is the Multiple Linear Regression model."
   ]
  }
 ],
 "metadata": {
  "colab": {
   "name": "CSCI461 Project (1).ipynb",
   "provenance": []
  },
  "kernelspec": {
   "display_name": "Python 3 (ipykernel)",
   "language": "python",
   "name": "python3"
  },
  "language_info": {
   "codemirror_mode": {
    "name": "ipython",
    "version": 3
   },
   "file_extension": ".py",
   "mimetype": "text/x-python",
   "name": "python",
   "nbconvert_exporter": "python",
   "pygments_lexer": "ipython3",
   "version": "3.9.12"
  }
 },
 "nbformat": 4,
 "nbformat_minor": 5
}
